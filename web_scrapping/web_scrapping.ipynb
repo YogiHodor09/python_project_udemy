{
 "cells": [
  {
   "cell_type": "code",
   "execution_count": 62,
   "metadata": {},
   "outputs": [],
   "source": [
    "import requests"
   ]
  },
  {
   "cell_type": "code",
   "execution_count": 63,
   "metadata": {},
   "outputs": [],
   "source": [
    "result = requests.get('http://www.example.com/')\n"
   ]
  },
  {
   "cell_type": "code",
   "execution_count": 64,
   "metadata": {},
   "outputs": [
    {
     "data": {
      "text/plain": [
       "requests.models.Response"
      ]
     },
     "execution_count": 64,
     "metadata": {},
     "output_type": "execute_result"
    }
   ],
   "source": [
    "type(result)"
   ]
  },
  {
   "cell_type": "code",
   "execution_count": 65,
   "metadata": {},
   "outputs": [
    {
     "data": {
      "text/plain": [
       "'<!doctype html>\\n<html>\\n<head>\\n    <title>Example Domain</title>\\n\\n    <meta charset=\"utf-8\" />\\n    <meta http-equiv=\"Content-type\" content=\"text/html; charset=utf-8\" />\\n    <meta name=\"viewport\" content=\"width=device-width, initial-scale=1\" />\\n    <style type=\"text/css\">\\n    body {\\n        background-color: #f0f0f2;\\n        margin: 0;\\n        padding: 0;\\n        font-family: -apple-system, system-ui, BlinkMacSystemFont, \"Segoe UI\", \"Open Sans\", \"Helvetica Neue\", Helvetica, Arial, sans-serif;\\n        \\n    }\\n    div {\\n        width: 600px;\\n        margin: 5em auto;\\n        padding: 2em;\\n        background-color: #fdfdff;\\n        border-radius: 0.5em;\\n        box-shadow: 2px 3px 7px 2px rgba(0,0,0,0.02);\\n    }\\n    a:link, a:visited {\\n        color: #38488f;\\n        text-decoration: none;\\n    }\\n    @media (max-width: 700px) {\\n        div {\\n            margin: 0 auto;\\n            width: auto;\\n        }\\n    }\\n    </style>    \\n</head>\\n\\n<body>\\n<div>\\n    <h1>Example Domain</h1>\\n    <p>This domain is for use in illustrative examples in documents. You may use this\\n    domain in literature without prior coordination or asking for permission.</p>\\n    <p><a href=\"https://www.iana.org/domains/example\">More information...</a></p>\\n</div>\\n</body>\\n</html>\\n'"
      ]
     },
     "execution_count": 65,
     "metadata": {},
     "output_type": "execute_result"
    }
   ],
   "source": [
    "result.text"
   ]
  },
  {
   "cell_type": "code",
   "execution_count": 66,
   "metadata": {},
   "outputs": [],
   "source": [
    "import bs4"
   ]
  },
  {
   "cell_type": "code",
   "execution_count": 67,
   "metadata": {},
   "outputs": [],
   "source": [
    "# 'lxml' to cipher the doc from web\n",
    "soup = bs4.BeautifulSoup(result.text, \"lxml\")\n"
   ]
  },
  {
   "cell_type": "code",
   "execution_count": 68,
   "metadata": {},
   "outputs": [
    {
     "data": {
      "text/plain": [
       "<!DOCTYPE html>\n",
       "<html>\n",
       "<head>\n",
       "<title>Example Domain</title>\n",
       "<meta charset=\"utf-8\"/>\n",
       "<meta content=\"text/html; charset=utf-8\" http-equiv=\"Content-type\"/>\n",
       "<meta content=\"width=device-width, initial-scale=1\" name=\"viewport\"/>\n",
       "<style type=\"text/css\">\n",
       "    body {\n",
       "        background-color: #f0f0f2;\n",
       "        margin: 0;\n",
       "        padding: 0;\n",
       "        font-family: -apple-system, system-ui, BlinkMacSystemFont, \"Segoe UI\", \"Open Sans\", \"Helvetica Neue\", Helvetica, Arial, sans-serif;\n",
       "        \n",
       "    }\n",
       "    div {\n",
       "        width: 600px;\n",
       "        margin: 5em auto;\n",
       "        padding: 2em;\n",
       "        background-color: #fdfdff;\n",
       "        border-radius: 0.5em;\n",
       "        box-shadow: 2px 3px 7px 2px rgba(0,0,0,0.02);\n",
       "    }\n",
       "    a:link, a:visited {\n",
       "        color: #38488f;\n",
       "        text-decoration: none;\n",
       "    }\n",
       "    @media (max-width: 700px) {\n",
       "        div {\n",
       "            margin: 0 auto;\n",
       "            width: auto;\n",
       "        }\n",
       "    }\n",
       "    </style>\n",
       "</head>\n",
       "<body>\n",
       "<div>\n",
       "<h1>Example Domain</h1>\n",
       "<p>This domain is for use in illustrative examples in documents. You may use this\n",
       "    domain in literature without prior coordination or asking for permission.</p>\n",
       "<p><a href=\"https://www.iana.org/domains/example\">More information...</a></p>\n",
       "</div>\n",
       "</body>\n",
       "</html>"
      ]
     },
     "execution_count": 68,
     "metadata": {},
     "output_type": "execute_result"
    }
   ],
   "source": [
    "soup"
   ]
  },
  {
   "cell_type": "code",
   "execution_count": 69,
   "metadata": {},
   "outputs": [
    {
     "data": {
      "text/plain": [
       "'Example Domain'"
      ]
     },
     "execution_count": 69,
     "metadata": {},
     "output_type": "execute_result"
    }
   ],
   "source": [
    "soup.select('title')  # getting <title> text </title> of HTML page\n",
    "# getting first element from the o/p list and get the text using getText()\n",
    "soup.select('title')[0].getText()\n"
   ]
  },
  {
   "cell_type": "code",
   "execution_count": 70,
   "metadata": {},
   "outputs": [],
   "source": [
    "soup.select('p')  # getting <p> text </p> of HTML page\n",
    "# getting first element from the o/p list and get the text using getText()\n",
    "site_para = soup.select('p')[0].getText()\n"
   ]
  },
  {
   "cell_type": "code",
   "execution_count": 71,
   "metadata": {},
   "outputs": [
    {
     "data": {
      "text/plain": [
       "'This domain is for use in illustrative examples in documents. You may use this\\n    domain in literature without prior coordination or asking for permission.'"
      ]
     },
     "execution_count": 71,
     "metadata": {},
     "output_type": "execute_result"
    }
   ],
   "source": [
    "site_para"
   ]
  },
  {
   "cell_type": "code",
   "execution_count": 72,
   "metadata": {},
   "outputs": [],
   "source": [
    "res = requests.get('https://en.wikipedia.org/wiki/Grace_Hopper')\n"
   ]
  },
  {
   "cell_type": "code",
   "execution_count": 73,
   "metadata": {},
   "outputs": [],
   "source": [
    "soup = bs4.BeautifulSoup(res.text,'lxml')"
   ]
  },
  {
   "cell_type": "code",
   "execution_count": 74,
   "metadata": {},
   "outputs": [],
   "source": [
    "# soup"
   ]
  },
  {
   "cell_type": "code",
   "execution_count": 75,
   "metadata": {},
   "outputs": [
    {
     "data": {
      "text/plain": [
       "<span class=\"toctext\">Early life and education</span>"
      ]
     },
     "execution_count": 75,
     "metadata": {},
     "output_type": "execute_result"
    }
   ],
   "source": [
    "# to scrap class from website use '.classname of css from webpage'\n",
    "soup.select('.toctext')[0]\n"
   ]
  },
  {
   "cell_type": "code",
   "execution_count": 76,
   "metadata": {},
   "outputs": [],
   "source": [
    "first_item = soup.select('.toctext')[0]\n"
   ]
  },
  {
   "cell_type": "code",
   "execution_count": 77,
   "metadata": {},
   "outputs": [
    {
     "name": "stdout",
     "output_type": "stream",
     "text": [
      ".toctext css class items : Early life and education\n",
      ".toctext css class items : Career\n",
      ".toctext css class items : World War II\n",
      ".toctext css class items : UNIVAC\n",
      ".toctext css class items : COBOL\n",
      ".toctext css class items : Standards\n",
      ".toctext css class items : Retirement\n",
      ".toctext css class items : Post-retirement\n",
      ".toctext css class items : Anecdotes\n",
      ".toctext css class items : Death\n",
      ".toctext css class items : Dates of rank\n",
      ".toctext css class items : Awards and honors\n",
      ".toctext css class items : Military awards\n",
      ".toctext css class items : Other awards\n",
      ".toctext css class items : Legacy\n",
      ".toctext css class items : Places\n",
      ".toctext css class items : Programs\n",
      ".toctext css class items : In popular culture\n",
      ".toctext css class items : Grace Hopper Celebration of Women in Computing\n",
      ".toctext css class items : See also\n",
      ".toctext css class items : Notes\n",
      ".toctext css class items : Obituary notices\n",
      ".toctext css class items : References\n",
      ".toctext css class items : Further reading\n",
      ".toctext css class items : External links\n"
     ]
    }
   ],
   "source": [
    "first_item.text  # get exact value of text in scrapping\n",
    "\n",
    "# Loop to scrap list of class name titles from web page display to python.\n",
    "for item in soup.select('.toctext'):\n",
    "    print(f\".toctext css class items : {item.text}\")\n"
   ]
  },
  {
   "cell_type": "code",
   "execution_count": 78,
   "metadata": {},
   "outputs": [],
   "source": [
    "# scrap image from web - check for copyrights / open source images is preferred.\n",
    "get_img_result = requests.get(\n",
    "    'https://en.wikipedia.org/wiki/Deep_Blue_(chess_computer)')\n",
    "\n"
   ]
  },
  {
   "cell_type": "code",
   "execution_count": 79,
   "metadata": {},
   "outputs": [],
   "source": [
    "soup = bs4.BeautifulSoup(get_img_result.text, 'lxml')\n",
    "\n",
    "\n"
   ]
  },
  {
   "cell_type": "code",
   "execution_count": 80,
   "metadata": {},
   "outputs": [
    {
     "data": {
      "text/plain": [
       "[<img alt=\"\" class=\"thumbimage\" data-file-height=\"600\" data-file-width=\"800\" decoding=\"async\" height=\"165\" src=\"//upload.wikimedia.org/wikipedia/commons/thumb/6/6f/Kasparov_Magath_1985_Hamburg-2.png/220px-Kasparov_Magath_1985_Hamburg-2.png\" srcset=\"//upload.wikimedia.org/wikipedia/commons/thumb/6/6f/Kasparov_Magath_1985_Hamburg-2.png/330px-Kasparov_Magath_1985_Hamburg-2.png 1.5x, //upload.wikimedia.org/wikipedia/commons/thumb/6/6f/Kasparov_Magath_1985_Hamburg-2.png/440px-Kasparov_Magath_1985_Hamburg-2.png 2x\" width=\"220\"/>,\n",
       " <img alt=\"\" class=\"thumbimage\" data-file-height=\"2756\" data-file-width=\"2067\" decoding=\"async\" height=\"293\" src=\"//upload.wikimedia.org/wikipedia/commons/thumb/8/83/One_of_Deep_Blue%27s_processors_%282586060990%29.jpg/220px-One_of_Deep_Blue%27s_processors_%282586060990%29.jpg\" srcset=\"//upload.wikimedia.org/wikipedia/commons/thumb/8/83/One_of_Deep_Blue%27s_processors_%282586060990%29.jpg/330px-One_of_Deep_Blue%27s_processors_%282586060990%29.jpg 1.5x, //upload.wikimedia.org/wikipedia/commons/thumb/8/83/One_of_Deep_Blue%27s_processors_%282586060990%29.jpg/440px-One_of_Deep_Blue%27s_processors_%282586060990%29.jpg 2x\" width=\"220\"/>]"
      ]
     },
     "execution_count": 80,
     "metadata": {},
     "output_type": "execute_result"
    }
   ],
   "source": [
    "# grab image inside the page not outside images.\n",
    "# '.thumbimage - internal class for image found inside web-page'\n",
    "soup.select('.thumbimage')\n"
   ]
  },
  {
   "cell_type": "code",
   "execution_count": 81,
   "metadata": {},
   "outputs": [],
   "source": [
    "computer = soup.select('.thumbimage')[0]"
   ]
  },
  {
   "cell_type": "code",
   "execution_count": 82,
   "metadata": {},
   "outputs": [
    {
     "data": {
      "text/plain": [
       "'//upload.wikimedia.org/wikipedia/commons/thumb/6/6f/Kasparov_Magath_1985_Hamburg-2.png/220px-Kasparov_Magath_1985_Hamburg-2.png'"
      ]
     },
     "execution_count": 82,
     "metadata": {},
     "output_type": "execute_result"
    }
   ],
   "source": [
    "computer['src']"
   ]
  },
  {
   "cell_type": "code",
   "execution_count": 83,
   "metadata": {},
   "outputs": [],
   "source": [
    "# Download image\n",
    "image_link = requests.get(\n",
    "    'https://upload.wikimedia.org/wikipedia/commons/thumb/6/6f/Kasparov_Magath_1985_Hamburg-2.png/220px-Kasparov_Magath_1985_Hamburg-2.png')\n"
   ]
  },
  {
   "cell_type": "code",
   "execution_count": 84,
   "metadata": {},
   "outputs": [],
   "source": [
    "# image_link.content == contains the raw binary data of the image \n",
    "# image_link.content \n",
    "# mode - 'wb' notes writing the binary data into a file created.\n",
    "\n",
    "with open('mycomputer_image.png','wb') as image:\n",
    "    image.write(image_link.content)\n",
    "    "
   ]
  },
  {
   "cell_type": "code",
   "execution_count": 85,
   "metadata": {},
   "outputs": [],
   "source": [
    "# FROM BOOKSCRAPE.COM - GET A BOOKS TITLE WITH 2 STAR RATINGS\n",
    "\n"
   ]
  },
  {
   "cell_type": "code",
   "execution_count": 86,
   "metadata": {},
   "outputs": [],
   "source": [
    "import requests\n",
    "import bs4"
   ]
  },
  {
   "cell_type": "code",
   "execution_count": 87,
   "metadata": {},
   "outputs": [],
   "source": [
    "# PAGINATION URL FOR BOOKSCRAPE WEBSITE : http://books.toscrape.com/catalogue/page-2.html\n",
    "\n",
    "# Parsing pagination numbers for page view\n",
    "base_url = 'http://books.toscrape.com/catalogue/page-{}.html'\n"
   ]
  },
  {
   "cell_type": "code",
   "execution_count": 88,
   "metadata": {},
   "outputs": [],
   "source": [
    "res = requests.get(base_url.format(1))"
   ]
  },
  {
   "cell_type": "code",
   "execution_count": 89,
   "metadata": {},
   "outputs": [],
   "source": [
    "soup = bs4.BeautifulSoup(res.text,'lxml')"
   ]
  },
  {
   "cell_type": "code",
   "execution_count": 90,
   "metadata": {},
   "outputs": [],
   "source": [
    "products = soup.select('.product_pod')"
   ]
  },
  {
   "cell_type": "code",
   "execution_count": 91,
   "metadata": {},
   "outputs": [],
   "source": [
    "example = products[0]"
   ]
  },
  {
   "cell_type": "code",
   "execution_count": 92,
   "metadata": {},
   "outputs": [
    {
     "data": {
      "text/plain": [
       "[<p class=\"star-rating Three\">\n",
       " <i class=\"icon-star\"></i>\n",
       " <i class=\"icon-star\"></i>\n",
       " <i class=\"icon-star\"></i>\n",
       " <i class=\"icon-star\"></i>\n",
       " <i class=\"icon-star\"></i>\n",
       " </p>]"
      ]
     },
     "execution_count": 92,
     "metadata": {},
     "output_type": "execute_result"
    }
   ],
   "source": [
    "example.select('.star-rating.Three')"
   ]
  },
  {
   "cell_type": "code",
   "execution_count": 93,
   "metadata": {},
   "outputs": [
    {
     "data": {
      "text/plain": [
       "'A Light in the Attic'"
      ]
     },
     "execution_count": 93,
     "metadata": {},
     "output_type": "execute_result"
    }
   ],
   "source": [
    "example.select('a')[1]['title']"
   ]
  },
  {
   "cell_type": "code",
   "execution_count": 94,
   "metadata": {},
   "outputs": [],
   "source": [
    "#  We can check if something is 2 stars (string call in , example.select(rating))\n",
    "# example.select('a')[1]['title'] to grab book title"
   ]
  },
  {
   "cell_type": "code",
   "execution_count": 95,
   "metadata": {},
   "outputs": [],
   "source": [
    "two_star_titles = []\n",
    "\n",
    "for n in range(1, 51):\n",
    "    scrape_url = base_url.format(n)\n",
    "    res = requests.get(scrape_url)\n",
    "\n",
    "    soup = bs4.BeautifulSoup(res.text, 'lxml')\n",
    "    books = soup.select('.product_pod')\n",
    "\n",
    "    for book in books:\n",
    "        if len(book.select('.star-rating.Two')) != 0:\n",
    "            book_title = book.select('a')[1]['title']\n",
    "            two_star_titles.append(book_title)\n"
   ]
  },
  {
   "cell_type": "code",
   "execution_count": 96,
   "metadata": {},
   "outputs": [
    {
     "data": {
      "text/plain": [
       "['Starving Hearts (Triangular Trade Trilogy, #1)',\n",
       " 'Libertarianism for Beginners',\n",
       " \"It's Only the Himalayas\",\n",
       " 'How Music Works',\n",
       " 'Maude (1883-1993):She Grew Up with the country',\n",
       " \"You can't bury them all: Poems\",\n",
       " 'Reasons to Stay Alive',\n",
       " 'Without Borders (Wanderlove #1)',\n",
       " 'Soul Reader',\n",
       " 'Security',\n",
       " 'Saga, Volume 5 (Saga (Collected Editions) #5)',\n",
       " 'Reskilling America: Learning to Labor in the Twenty-First Century',\n",
       " 'Political Suicide: Missteps, Peccadilloes, Bad Calls, Backroom Hijinx, Sordid Pasts, Rotten Breaks, and Just Plain Dumb Mistakes in the Annals of American Politics',\n",
       " 'Obsidian (Lux #1)',\n",
       " 'My Paris Kitchen: Recipes and Stories',\n",
       " 'Masks and Shadows',\n",
       " 'Lumberjanes, Vol. 2: Friendship to the Max (Lumberjanes #5-8)',\n",
       " 'Lumberjanes Vol. 3: A Terrible Plan (Lumberjanes #9-12)',\n",
       " 'Judo: Seven Steps to Black Belt (an Introductory Guide for Beginners)',\n",
       " 'I Hate Fairyland, Vol. 1: Madly Ever After (I Hate Fairyland (Compilations) #1-5)',\n",
       " 'Giant Days, Vol. 2 (Giant Days #5-8)',\n",
       " 'Everydata: The Misinformation Hidden in the Little Data You Consume Every Day',\n",
       " \"Don't Be a Jerk: And Other Practical Advice from Dogen, Japan's Greatest Zen Master\",\n",
       " 'Bossypants',\n",
       " 'Bitch Planet, Vol. 1: Extraordinary Machine (Bitch Planet (Collected Editions))',\n",
       " 'Avatar: The Last Airbender: Smoke and Shadow, Part 3 (Smoke and Shadow #3)',\n",
       " 'Tuesday Nights in 1980',\n",
       " 'The Psychopath Test: A Journey Through the Madness Industry',\n",
       " 'The Power of Now: A Guide to Spiritual Enlightenment',\n",
       " \"The Omnivore's Dilemma: A Natural History of Four Meals\",\n",
       " 'The Love and Lemons Cookbook: An Apple-to-Zucchini Celebration of Impromptu Cooking',\n",
       " 'The Girl on the Train',\n",
       " 'The Emerald Mystery',\n",
       " 'The Argonauts',\n",
       " 'Suddenly in Love (Lake Haven #1)',\n",
       " 'Soft Apocalypse',\n",
       " \"So You've Been Publicly Shamed\",\n",
       " 'Shoe Dog: A Memoir by the Creator of NIKE',\n",
       " 'Louisa: The Extraordinary Life of Mrs. Adams',\n",
       " 'Large Print Heart of the Pride',\n",
       " 'Grumbles',\n",
       " 'Chasing Heaven: What Dying Taught Me About Living',\n",
       " 'Becoming Wise: An Inquiry into the Mystery and Art of Living',\n",
       " 'Beauty Restored (Riley Family Legacy Novellas #3)',\n",
       " 'Batman: The Long Halloween (Batman)',\n",
       " \"Ayumi's Violin\",\n",
       " 'Wild Swans',\n",
       " \"What's It Like in Space?: Stories from Astronauts Who've Been There\",\n",
       " 'Until Friday Night (The Field Party #1)',\n",
       " 'Unbroken: A World War II Story of Survival, Resilience, and Redemption',\n",
       " 'Twenty Yawns',\n",
       " 'Through the Woods',\n",
       " 'This Is Where It Ends',\n",
       " 'The Year of Magical Thinking',\n",
       " 'The Last Mile (Amos Decker #2)',\n",
       " 'The Immortal Life of Henrietta Lacks',\n",
       " 'The Hidden Oracle (The Trials of Apollo #1)',\n",
       " 'The Guilty (Will Robie #4)',\n",
       " 'Red Hood/Arsenal, Vol. 1: Open for Business (Red Hood/Arsenal #1)',\n",
       " 'Once Was a Time',\n",
       " 'No Dream Is Too High: Life Lessons From a Man Who Walked on the Moon',\n",
       " 'Naruto (3-in-1 Edition), Vol. 14: Includes Vols. 40, 41 & 42 (Naruto: Omnibus #14)',\n",
       " 'More Than Music (Chasing the Dream #1)',\n",
       " 'Lowriders to the Center of the Earth (Lowriders in Space #2)',\n",
       " 'Eat Fat, Get Thin',\n",
       " 'Doctor Sleep (The Shining #2)',\n",
       " 'Crazy Love: Overwhelmed by a Relentless God',\n",
       " 'Carrie',\n",
       " 'Batman: Europa',\n",
       " 'Angels Walking (Angels Walking #1)',\n",
       " 'Adulthood Is a Myth: A \"Sarah\\'s Scribbles\" Collection',\n",
       " 'A Study in Scarlet (Sherlock Holmes #1)',\n",
       " 'A Series of Catastrophes and Miracles: A True Story of Love, Science, and Cancer',\n",
       " \"A People's History of the United States\",\n",
       " 'My Kitchen Year: 136 Recipes That Saved My Life',\n",
       " 'The Lonely City: Adventures in the Art of Being Alone',\n",
       " 'The Dinner Party',\n",
       " 'Stars Above (The Lunar Chronicles #4.5)',\n",
       " 'Love, Lies and Spies',\n",
       " 'Troublemaker: Surviving Hollywood and Scientology',\n",
       " 'The Widow',\n",
       " 'Setting the World on Fire: The Brief, Astonishing Life of St. Catherine of Siena',\n",
       " 'Mothering Sunday',\n",
       " 'Lilac Girls',\n",
       " '10% Happier: How I Tamed the Voice in My Head, Reduced Stress Without Losing My Edge, and Found Self-Help That Actually Works',\n",
       " 'Underlying Notes',\n",
       " 'The Flowers Lied',\n",
       " 'Modern Day Fables',\n",
       " \"Chernobyl 01:23:40: The Incredible True Story of the World's Worst Nuclear Disaster\",\n",
       " '23 Degrees South: A Tropical Tale of Changing Whether...',\n",
       " 'When Breath Becomes Air',\n",
       " 'Vagabonding: An Uncommon Guide to the Art of Long-Term World Travel',\n",
       " 'The Martian (The Martian #1)',\n",
       " \"Miller's Valley\",\n",
       " \"Love That Boy: What Two Presidents, Eight Road Trips, and My Son Taught Me About a Parent's Expectations\",\n",
       " 'Left Behind (Left Behind #1)',\n",
       " 'Howl and Other Poems',\n",
       " \"Heaven is for Real: A Little Boy's Astounding Story of His Trip to Heaven and Back\",\n",
       " \"Brazen: The Courage to Find the You That's Been Hiding\",\n",
       " '32 Yolks',\n",
       " 'Wildlife of New York: A Five-Borough Coloring Book',\n",
       " 'Unreasonable Hope: Finding Faith in the God Who Brings Purpose to Your Pain',\n",
       " 'The Art Book',\n",
       " 'Steal Like an Artist: 10 Things Nobody Told You About Being Creative',\n",
       " 'Raymie Nightingale',\n",
       " 'Like Never Before (Walker Family #2)',\n",
       " 'How to Be a Domestic Goddess: Baking and the Art of Comfort Cooking',\n",
       " 'Finding God in the Ruins: How God Redeems Pain',\n",
       " 'Chronicles, Vol. 1',\n",
       " 'A Summer In Europe',\n",
       " 'The Rise and Fall of the Third Reich: A History of Nazi Germany',\n",
       " 'The Makings of a Fatherless Child',\n",
       " 'The Fellowship of the Ring (The Lord of the Rings #1)',\n",
       " \"Tell the Wolves I'm Home\",\n",
       " 'In the Woods (Dublin Murder Squad #1)',\n",
       " 'Give It Back',\n",
       " 'Why Save the Bankers?: And Other Essays on Our Economic and Political Crisis',\n",
       " 'The Raven King (The Raven Cycle #4)',\n",
       " 'The Expatriates',\n",
       " 'The 5th Wave (The 5th Wave #1)',\n",
       " 'Peak: Secrets from the New Science of Expertise',\n",
       " 'Logan Kade (Fallen Crest High #5.5)',\n",
       " \"I Know Why the Caged Bird Sings (Maya Angelou's Autobiography #1)\",\n",
       " 'Drama',\n",
       " \"America's War for the Greater Middle East: A Military History\",\n",
       " 'A Game of Thrones (A Song of Ice and Fire #1)',\n",
       " \"The Pilgrim's Progress\",\n",
       " 'The Hound of the Baskervilles (Sherlock Holmes #5)',\n",
       " \"The Geography of Bliss: One Grump's Search for the Happiest Places in the World\",\n",
       " 'The Demonists (Demonist #1)',\n",
       " 'The Demon Prince of Momochi House, Vol. 4 (The Demon Prince of Momochi House #4)',\n",
       " 'Misery',\n",
       " 'Far From True (Promise Falls Trilogy #2)',\n",
       " 'Confessions of a Shopaholic (Shopaholic #1)',\n",
       " 'Vegan Vegetarian Omnivore: Dinner for Everyone at the Table',\n",
       " 'Two Boys Kissing',\n",
       " 'Twilight (Twilight #1)',\n",
       " 'Twenties Girl',\n",
       " 'The Tipping Point: How Little Things Can Make a Big Difference',\n",
       " 'The Stand',\n",
       " 'The Picture of Dorian Gray',\n",
       " 'The Name of God is Mercy',\n",
       " \"The Lover's Dictionary\",\n",
       " 'The Last Painting of Sara de Vos',\n",
       " 'The Guns of August',\n",
       " 'The Girl Who Played with Fire (Millennium Trilogy #2)',\n",
       " 'The Da Vinci Code (Robert Langdon #2)',\n",
       " 'The Cat in the Hat (Beginner Books B-1)',\n",
       " 'The Book Thief',\n",
       " 'The Autobiography of Malcolm X',\n",
       " \"Surely You're Joking, Mr. Feynman!: Adventures of a Curious Character\",\n",
       " 'Soldier (Talon #3)',\n",
       " 'Shopaholic & Baby (Shopaholic #5)',\n",
       " 'Seven Days in the Art World',\n",
       " 'Rework',\n",
       " 'Packing for Mars: The Curious Science of Life in the Void',\n",
       " 'Orange Is the New Black',\n",
       " 'One for the Money (Stephanie Plum #1)',\n",
       " 'Midnight Riot (Peter Grant/ Rivers of London - books #1)',\n",
       " 'Me Talk Pretty One Day',\n",
       " 'Manuscript Found in Accra',\n",
       " 'Lust & Wonder',\n",
       " \"Life, the Universe and Everything (Hitchhiker's Guide to the Galaxy #3)\",\n",
       " 'Life After Life',\n",
       " 'I Am Malala: The Girl Who Stood Up for Education and Was Shot by the Taliban',\n",
       " 'House of Lost Worlds: Dinosaurs, Dynasties, and the Story of Life on Earth',\n",
       " 'Horrible Bear!',\n",
       " 'Holidays on Ice',\n",
       " 'Girl in the Blue Coat',\n",
       " 'Fruits Basket, Vol. 3 (Fruits Basket #3)',\n",
       " 'Cosmos',\n",
       " 'Civilization and Its Discontents',\n",
       " \"Catastrophic Happiness: Finding Joy in Childhood's Messy Years\",\n",
       " 'Career of Evil (Cormoran Strike #3)',\n",
       " 'Born to Run: A Hidden Tribe, Superathletes, and the Greatest Race the World Has Never Seen',\n",
       " \"Best of My Love (Fool's Gold #20)\",\n",
       " 'Beowulf',\n",
       " 'Awkward',\n",
       " 'And Then There Were None',\n",
       " 'A Storm of Swords (A Song of Ice and Fire #3)',\n",
       " 'The Suffragettes (Little Black Classics, #96)',\n",
       " 'Vampire Girl (Vampire Girl #1)',\n",
       " 'Three Wishes (River of Time: California #1)',\n",
       " 'The Wicked + The Divine, Vol. 1: The Faust Act (The Wicked + The Divine)',\n",
       " 'The Little Prince',\n",
       " 'The Last Girl (The Dominion Trilogy #1)',\n",
       " 'Taking Shots (Assassins #1)',\n",
       " 'Settling the Score (The Summer Games #1)',\n",
       " 'Rhythm, Chord & Malykhin',\n",
       " 'One Second (Seven #7)',\n",
       " \"Old Records Never Die: One Man's Quest for His Vinyl and His Past\",\n",
       " 'Of Mice and Men',\n",
       " 'My Perfect Mistake (Over the Top #1)',\n",
       " 'Meditations',\n",
       " 'Frankenstein',\n",
       " 'Emma']"
      ]
     },
     "execution_count": 96,
     "metadata": {},
     "output_type": "execute_result"
    }
   ],
   "source": [
    "two_star_titles"
   ]
  },
  {
   "cell_type": "code",
   "execution_count": null,
   "metadata": {},
   "outputs": [],
   "source": []
  },
  {
   "cell_type": "code",
   "execution_count": null,
   "metadata": {},
   "outputs": [],
   "source": []
  },
  {
   "cell_type": "code",
   "execution_count": null,
   "metadata": {},
   "outputs": [],
   "source": []
  },
  {
   "cell_type": "code",
   "execution_count": null,
   "metadata": {},
   "outputs": [],
   "source": []
  },
  {
   "cell_type": "code",
   "execution_count": null,
   "metadata": {},
   "outputs": [],
   "source": []
  },
  {
   "cell_type": "code",
   "execution_count": null,
   "metadata": {},
   "outputs": [],
   "source": []
  },
  {
   "cell_type": "code",
   "execution_count": null,
   "metadata": {},
   "outputs": [],
   "source": []
  },
  {
   "cell_type": "code",
   "execution_count": null,
   "metadata": {},
   "outputs": [],
   "source": []
  },
  {
   "cell_type": "code",
   "execution_count": null,
   "metadata": {},
   "outputs": [],
   "source": []
  }
 ],
 "metadata": {
  "kernelspec": {
   "display_name": "Python 3.9.12 ('base')",
   "language": "python",
   "name": "python3"
  },
  "language_info": {
   "codemirror_mode": {
    "name": "ipython",
    "version": 3
   },
   "file_extension": ".py",
   "mimetype": "text/x-python",
   "name": "python",
   "nbconvert_exporter": "python",
   "pygments_lexer": "ipython3",
   "version": "3.9.12"
  },
  "orig_nbformat": 4,
  "vscode": {
   "interpreter": {
    "hash": "f1658096e3ad788612abb931e2d14e658e5c89eabb6796d184891d4d35b58bc4"
   }
  }
 },
 "nbformat": 4,
 "nbformat_minor": 2
}
