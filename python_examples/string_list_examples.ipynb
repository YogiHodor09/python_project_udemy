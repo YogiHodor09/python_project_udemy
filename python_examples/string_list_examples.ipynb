{
 "cells": [
  {
   "cell_type": "code",
   "execution_count": 235,
   "id": "fdc9fcfb",
   "metadata": {},
   "outputs": [
    {
     "data": {
      "text/plain": [
       "9"
      ]
     },
     "execution_count": 235,
     "metadata": {},
     "output_type": "execute_result"
    }
   ],
   "source": [
    "len('yogeshwar')"
   ]
  },
  {
   "cell_type": "code",
   "execution_count": 236,
   "id": "01d3837a",
   "metadata": {},
   "outputs": [
    {
     "data": {
      "text/plain": [
       "'hello yogeshwar'"
      ]
     },
     "execution_count": 236,
     "metadata": {},
     "output_type": "execute_result"
    }
   ],
   "source": [
    "'hello yogeshwar'"
   ]
  },
  {
   "cell_type": "code",
   "execution_count": 237,
   "id": "184b53cf",
   "metadata": {},
   "outputs": [
    {
     "name": "stdout",
     "output_type": "stream",
     "text": [
      "hello Yogeshwar\twelcome to python development!\n"
     ]
    }
   ],
   "source": [
    "print('hello Yogeshwar\\twelcome to python development!')"
   ]
  },
  {
   "cell_type": "code",
   "execution_count": 238,
   "id": "d2e0d549",
   "metadata": {},
   "outputs": [],
   "source": [
    "myString = \"Yogeshwar Panneerselvam\""
   ]
  },
  {
   "cell_type": "code",
   "execution_count": 239,
   "id": "573da828",
   "metadata": {},
   "outputs": [
    {
     "data": {
      "text/plain": [
       "'l'"
      ]
     },
     "execution_count": 239,
     "metadata": {},
     "output_type": "execute_result"
    }
   ],
   "source": [
    "# get index using negative index\n",
    "myString[-4]"
   ]
  },
  {
   "cell_type": "code",
   "execution_count": 240,
   "id": "1b6b955a",
   "metadata": {},
   "outputs": [
    {
     "data": {
      "text/plain": [
       "'m'"
      ]
     },
     "execution_count": 240,
     "metadata": {},
     "output_type": "execute_result"
    }
   ],
   "source": [
    "# print last letter of the string\n",
    "myString[-1] "
   ]
  },
  {
   "cell_type": "code",
   "execution_count": 241,
   "id": "4a7a824e",
   "metadata": {},
   "outputs": [],
   "source": [
    "# Slicing the string\n",
    "myString = 'abcdefghijk'"
   ]
  },
  {
   "cell_type": "code",
   "execution_count": 242,
   "id": "99174bd1",
   "metadata": {},
   "outputs": [
    {
     "data": {
      "text/plain": [
       "'abcdefghijk'"
      ]
     },
     "execution_count": 242,
     "metadata": {},
     "output_type": "execute_result"
    }
   ],
   "source": [
    "myString"
   ]
  },
  {
   "cell_type": "code",
   "execution_count": 243,
   "id": "71bf10c9",
   "metadata": {},
   "outputs": [
    {
     "data": {
      "text/plain": [
       "'cdefghijk'"
      ]
     },
     "execution_count": 243,
     "metadata": {},
     "output_type": "execute_result"
    }
   ],
   "source": [
    "# Slicing index of string upto \"2\" index [start:stop:upto]\n",
    "myString[2:]"
   ]
  },
  {
   "cell_type": "code",
   "execution_count": 244,
   "id": "2d5f901c",
   "metadata": {},
   "outputs": [
    {
     "data": {
      "text/plain": [
       "'abcdefghijk'"
      ]
     },
     "execution_count": 244,
     "metadata": {},
     "output_type": "execute_result"
    }
   ],
   "source": [
    "myString"
   ]
  },
  {
   "cell_type": "code",
   "execution_count": 245,
   "id": "0282d2ed",
   "metadata": {},
   "outputs": [
    {
     "data": {
      "text/plain": [
       "'abc'"
      ]
     },
     "execution_count": 245,
     "metadata": {},
     "output_type": "execute_result"
    }
   ],
   "source": [
    "# Slicing the string and getting the range from start to stop index upto 3\n",
    "myString[:3]"
   ]
  },
  {
   "cell_type": "code",
   "execution_count": 246,
   "id": "19947781",
   "metadata": {},
   "outputs": [
    {
     "data": {
      "text/plain": [
       "'abcdefghijk'"
      ]
     },
     "execution_count": 246,
     "metadata": {},
     "output_type": "execute_result"
    }
   ],
   "source": [
    "myString"
   ]
  },
  {
   "cell_type": "code",
   "execution_count": 247,
   "id": "18cbf108",
   "metadata": {},
   "outputs": [
    {
     "data": {
      "text/plain": [
       "'def'"
      ]
     },
     "execution_count": 247,
     "metadata": {},
     "output_type": "execute_result"
    }
   ],
   "source": [
    "myString[3:6]"
   ]
  },
  {
   "cell_type": "code",
   "execution_count": 248,
   "id": "ac6b51bd",
   "metadata": {},
   "outputs": [
    {
     "data": {
      "text/plain": [
       "'abcdefghijk'"
      ]
     },
     "execution_count": 248,
     "metadata": {},
     "output_type": "execute_result"
    }
   ],
   "source": [
    "# Getting string from end to end\n",
    "myString[::]"
   ]
  },
  {
   "cell_type": "code",
   "execution_count": 249,
   "id": "24297101",
   "metadata": {},
   "outputs": [
    {
     "data": {
      "text/plain": [
       "'adgj'"
      ]
     },
     "execution_count": 249,
     "metadata": {},
     "output_type": "execute_result"
    }
   ],
   "source": [
    "# Getting string jump as per limit\n",
    "myString[::3]\n"
   ]
  },
  {
   "cell_type": "code",
   "execution_count": 250,
   "id": "4f7cacd4",
   "metadata": {},
   "outputs": [
    {
     "data": {
      "text/plain": [
       "'ceg'"
      ]
     },
     "execution_count": 250,
     "metadata": {},
     "output_type": "execute_result"
    }
   ],
   "source": [
    "myString[2:7:2]"
   ]
  },
  {
   "cell_type": "code",
   "execution_count": 251,
   "id": "c239a5d1",
   "metadata": {},
   "outputs": [
    {
     "data": {
      "text/plain": [
       "'abcdefghijk'"
      ]
     },
     "execution_count": 251,
     "metadata": {},
     "output_type": "execute_result"
    }
   ],
   "source": [
    "myString"
   ]
  },
  {
   "cell_type": "code",
   "execution_count": 252,
   "id": "bf8e95e3",
   "metadata": {},
   "outputs": [
    {
     "data": {
      "text/plain": [
       "'ceg'"
      ]
     },
     "execution_count": 252,
     "metadata": {},
     "output_type": "execute_result"
    }
   ],
   "source": [
    "myString[2:8:2]"
   ]
  },
  {
   "cell_type": "code",
   "execution_count": 253,
   "id": "15a5ea55",
   "metadata": {},
   "outputs": [
    {
     "data": {
      "text/plain": [
       "'kjihgfedcba'"
      ]
     },
     "execution_count": 253,
     "metadata": {},
     "output_type": "execute_result"
    }
   ],
   "source": [
    "# reverse the string \n",
    "myString[::-1]"
   ]
  },
  {
   "cell_type": "code",
   "execution_count": 254,
   "id": "14e3b9dc",
   "metadata": {},
   "outputs": [],
   "source": [
    "# Immutability in String\n",
    "name ='Yogeshwar'"
   ]
  },
  {
   "cell_type": "code",
   "execution_count": 255,
   "id": "19fc5a18",
   "metadata": {},
   "outputs": [],
   "source": [
    "# name[0]='S'"
   ]
  },
  {
   "cell_type": "code",
   "execution_count": 256,
   "id": "6a12fa7d",
   "metadata": {},
   "outputs": [],
   "source": [
    "last_letters = name[0:-3]"
   ]
  },
  {
   "cell_type": "code",
   "execution_count": 257,
   "id": "c19e7a5b",
   "metadata": {},
   "outputs": [
    {
     "data": {
      "text/plain": [
       "'Yogesh'"
      ]
     },
     "execution_count": 257,
     "metadata": {},
     "output_type": "execute_result"
    }
   ],
   "source": [
    "last_letters"
   ]
  },
  {
   "cell_type": "code",
   "execution_count": 258,
   "id": "92ea1fb6",
   "metadata": {},
   "outputs": [
    {
     "data": {
      "text/plain": [
       "'P Yogesh'"
      ]
     },
     "execution_count": 258,
     "metadata": {},
     "output_type": "execute_result"
    }
   ],
   "source": [
    "#  String concatenation\n",
    "'P '+last_letters"
   ]
  },
  {
   "cell_type": "code",
   "execution_count": 259,
   "id": "45c5bdde",
   "metadata": {},
   "outputs": [],
   "source": [
    "letter = 'Z'"
   ]
  },
  {
   "cell_type": "code",
   "execution_count": 260,
   "id": "32b29917",
   "metadata": {},
   "outputs": [
    {
     "data": {
      "text/plain": [
       "'ZZZZZZZZZZ'"
      ]
     },
     "execution_count": 260,
     "metadata": {},
     "output_type": "execute_result"
    }
   ],
   "source": [
    "# Multiplication of letters\n",
    "letter*10"
   ]
  },
  {
   "cell_type": "code",
   "execution_count": 261,
   "id": "ed697593",
   "metadata": {},
   "outputs": [],
   "source": [
    "x='Hello Yogeshwar'"
   ]
  },
  {
   "cell_type": "code",
   "execution_count": 262,
   "id": "665785c5",
   "metadata": {},
   "outputs": [
    {
     "data": {
      "text/plain": [
       "'HELLO YOGESHWAR'"
      ]
     },
     "execution_count": 262,
     "metadata": {},
     "output_type": "execute_result"
    }
   ],
   "source": [
    "x.upper()"
   ]
  },
  {
   "cell_type": "code",
   "execution_count": 263,
   "id": "c06194b6",
   "metadata": {},
   "outputs": [
    {
     "data": {
      "text/plain": [
       "'Hello Yogeshwar'"
      ]
     },
     "execution_count": 263,
     "metadata": {},
     "output_type": "execute_result"
    }
   ],
   "source": [
    "x"
   ]
  },
  {
   "cell_type": "code",
   "execution_count": 264,
   "id": "e311b1ad",
   "metadata": {},
   "outputs": [
    {
     "data": {
      "text/plain": [
       "['Hello', 'Yogeshwar']"
      ]
     },
     "execution_count": 264,
     "metadata": {},
     "output_type": "execute_result"
    }
   ],
   "source": [
    "x.split()"
   ]
  },
  {
   "cell_type": "code",
   "execution_count": 265,
   "id": "dc6e485a",
   "metadata": {},
   "outputs": [
    {
     "data": {
      "text/plain": [
       "['H', 'llo Yog', 'shwar']"
      ]
     },
     "execution_count": 265,
     "metadata": {},
     "output_type": "execute_result"
    }
   ],
   "source": [
    "# Splitting the charecter occurs and add it to list\n",
    "x.split('e')"
   ]
  },
  {
   "cell_type": "code",
   "execution_count": 266,
   "id": "bc3de307",
   "metadata": {},
   "outputs": [
    {
     "name": "stdout",
     "output_type": "stream",
     "text": [
      "Hello Yogeshwar welcome to Python development\n"
     ]
    }
   ],
   "source": [
    "# Format the string using format method and inserting the positioned string values\n",
    "print('Hello {} welcome to {} development'.format('Yogeshwar','Python'))"
   ]
  },
  {
   "cell_type": "code",
   "execution_count": 267,
   "id": "8edac121",
   "metadata": {},
   "outputs": [
    {
     "name": "stdout",
     "output_type": "stream",
     "text": [
      "The quick brown fox\n"
     ]
    }
   ],
   "source": [
    "# Giving the position index to format the values needed inside the string literals\n",
    "print('The {2} {0} {1}'.format('brown','fox','quick'))"
   ]
  },
  {
   "cell_type": "code",
   "execution_count": 268,
   "id": "41f50ecf",
   "metadata": {},
   "outputs": [
    {
     "name": "stdout",
     "output_type": "stream",
     "text": [
      "Yogeshwar is a beast!\n"
     ]
    }
   ],
   "source": [
    "# Assign the variables for the values to format\n",
    "print('Yogeshwar {f} {b} {q}'.format(f='is', q='beast!',b='a'))"
   ]
  },
  {
   "cell_type": "code",
   "execution_count": 269,
   "id": "76de0b7f",
   "metadata": {},
   "outputs": [],
   "source": [
    "# Float formatting {value:width.precision f}\n",
    "result = 100/777"
   ]
  },
  {
   "cell_type": "code",
   "execution_count": 270,
   "id": "38474923",
   "metadata": {},
   "outputs": [
    {
     "data": {
      "text/plain": [
       "0.1287001287001287"
      ]
     },
     "execution_count": 270,
     "metadata": {},
     "output_type": "execute_result"
    }
   ],
   "source": [
    "result"
   ]
  },
  {
   "cell_type": "code",
   "execution_count": 271,
   "id": "a4978006",
   "metadata": {},
   "outputs": [
    {
     "name": "stdout",
     "output_type": "stream",
     "text": [
      "The result was 0.1287001\n"
     ]
    }
   ],
   "source": [
    "print('The result was {r:1.7f}'.format(r=result))\n"
   ]
  },
  {
   "cell_type": "code",
   "execution_count": 272,
   "id": "3d032d16",
   "metadata": {},
   "outputs": [],
   "source": [
    "# f string literal method\n",
    "name = \"My name is\""
   ]
  },
  {
   "cell_type": "code",
   "execution_count": 273,
   "id": "e17dcb37",
   "metadata": {},
   "outputs": [
    {
     "data": {
      "text/plain": [
       "'My name is'"
      ]
     },
     "execution_count": 273,
     "metadata": {},
     "output_type": "execute_result"
    }
   ],
   "source": [
    "name"
   ]
  },
  {
   "cell_type": "code",
   "execution_count": 274,
   "id": "f19f24f2",
   "metadata": {},
   "outputs": [
    {
     "name": "stdout",
     "output_type": "stream",
     "text": [
      "My name is yogeshwar!\n"
     ]
    }
   ],
   "source": [
    "# f string literal method\n",
    "print(f'{name} yogeshwar!') "
   ]
  },
  {
   "cell_type": "code",
   "execution_count": 275,
   "id": "22a277cb",
   "metadata": {},
   "outputs": [
    {
     "name": "stdout",
     "output_type": "stream",
     "text": [
      "Yogeshwar is 28 years old cutie!\n"
     ]
    }
   ],
   "source": [
    "name ='Yogeshwar'\n",
    "age=28\n",
    "\n",
    "print(f'{name} is {age} years old cutie!')"
   ]
  },
  {
   "cell_type": "code",
   "execution_count": 276,
   "id": "0448b7be",
   "metadata": {},
   "outputs": [
    {
     "name": "stdout",
     "output_type": "stream",
     "text": [
      "Python rules!\n"
     ]
    }
   ],
   "source": [
    "rule = 'rules!'\n",
    "print(f'Python {rule}')"
   ]
  },
  {
   "cell_type": "code",
   "execution_count": 277,
   "id": "730cbcfb",
   "metadata": {},
   "outputs": [],
   "source": [
    "# List in python\n",
    "myList=['one','two','three']"
   ]
  },
  {
   "cell_type": "code",
   "execution_count": 278,
   "id": "99539682",
   "metadata": {},
   "outputs": [],
   "source": [
    "another_list = ['four','five']"
   ]
  },
  {
   "cell_type": "code",
   "execution_count": 279,
   "id": "b6ded077",
   "metadata": {},
   "outputs": [],
   "source": [
    "total_list = myList+another_list"
   ]
  },
  {
   "cell_type": "code",
   "execution_count": 280,
   "id": "604f1f23",
   "metadata": {},
   "outputs": [
    {
     "data": {
      "text/plain": [
       "['one', 'two', 'three', 'four', 'five']"
      ]
     },
     "execution_count": 280,
     "metadata": {},
     "output_type": "execute_result"
    }
   ],
   "source": [
    "total_list"
   ]
  },
  {
   "cell_type": "code",
   "execution_count": 281,
   "id": "0760616c",
   "metadata": {},
   "outputs": [
    {
     "data": {
      "text/plain": [
       "['two', 'three']"
      ]
     },
     "execution_count": 281,
     "metadata": {},
     "output_type": "execute_result"
    }
   ],
   "source": [
    "# List slicing\n",
    "myList[1:]"
   ]
  },
  {
   "cell_type": "code",
   "execution_count": 282,
   "id": "5eb88ad5",
   "metadata": {},
   "outputs": [],
   "source": [
    "# List index change value\n",
    "total_list[1]='TWO ALL CAPS'"
   ]
  },
  {
   "cell_type": "code",
   "execution_count": 283,
   "id": "01e39fed",
   "metadata": {},
   "outputs": [
    {
     "data": {
      "text/plain": [
       "['one', 'two', 'three']"
      ]
     },
     "execution_count": 283,
     "metadata": {},
     "output_type": "execute_result"
    }
   ],
   "source": [
    "myList"
   ]
  },
  {
   "cell_type": "code",
   "execution_count": 284,
   "id": "0f5a43cb",
   "metadata": {},
   "outputs": [],
   "source": [
    "another_list.append('six')"
   ]
  },
  {
   "cell_type": "code",
   "execution_count": 285,
   "id": "6a15dea7",
   "metadata": {},
   "outputs": [
    {
     "data": {
      "text/plain": [
       "['four', 'five', 'six']"
      ]
     },
     "execution_count": 285,
     "metadata": {},
     "output_type": "execute_result"
    }
   ],
   "source": [
    "another_list"
   ]
  },
  {
   "cell_type": "code",
   "execution_count": 286,
   "id": "1ebff6ba",
   "metadata": {},
   "outputs": [
    {
     "data": {
      "text/plain": [
       "['one', 'TWO ALL CAPS', 'three', 'four', 'five']"
      ]
     },
     "execution_count": 286,
     "metadata": {},
     "output_type": "execute_result"
    }
   ],
   "source": [
    "total_list"
   ]
  },
  {
   "cell_type": "code",
   "execution_count": 287,
   "id": "de241b62",
   "metadata": {},
   "outputs": [
    {
     "data": {
      "text/plain": [
       "['one', 'TWO ALL CAPS', 'three', 'four', 'five']"
      ]
     },
     "execution_count": 287,
     "metadata": {},
     "output_type": "execute_result"
    }
   ],
   "source": [
    "total_list"
   ]
  },
  {
   "cell_type": "code",
   "execution_count": 288,
   "id": "1ceb06fe",
   "metadata": {},
   "outputs": [],
   "source": [
    "# Append item at end of list\n",
    "total_list.append('six')"
   ]
  },
  {
   "cell_type": "code",
   "execution_count": 289,
   "id": "f30c5eb8",
   "metadata": {},
   "outputs": [
    {
     "data": {
      "text/plain": [
       "['one', 'TWO ALL CAPS', 'three', 'four', 'five', 'six']"
      ]
     },
     "execution_count": 289,
     "metadata": {},
     "output_type": "execute_result"
    }
   ],
   "source": [
    "total_list"
   ]
  },
  {
   "cell_type": "code",
   "execution_count": 290,
   "id": "372577df",
   "metadata": {},
   "outputs": [
    {
     "data": {
      "text/plain": [
       "'six'"
      ]
     },
     "execution_count": 290,
     "metadata": {},
     "output_type": "execute_result"
    }
   ],
   "source": [
    "# Pop to Remove the item at the end of the list\n",
    "total_list.pop()"
   ]
  },
  {
   "cell_type": "code",
   "execution_count": 291,
   "id": "ac27a6be",
   "metadata": {},
   "outputs": [
    {
     "data": {
      "text/plain": [
       "['one', 'TWO ALL CAPS', 'three', 'four', 'five']"
      ]
     },
     "execution_count": 291,
     "metadata": {},
     "output_type": "execute_result"
    }
   ],
   "source": [
    "total_list"
   ]
  },
  {
   "cell_type": "code",
   "execution_count": 292,
   "id": "5a643220",
   "metadata": {},
   "outputs": [],
   "source": [
    "popped_list = total_list.pop()"
   ]
  },
  {
   "cell_type": "code",
   "execution_count": 293,
   "id": "5ba332bb",
   "metadata": {},
   "outputs": [
    {
     "data": {
      "text/plain": [
       "'five'"
      ]
     },
     "execution_count": 293,
     "metadata": {},
     "output_type": "execute_result"
    }
   ],
   "source": [
    "popped_list"
   ]
  },
  {
   "cell_type": "code",
   "execution_count": 294,
   "id": "2f77a006",
   "metadata": {},
   "outputs": [
    {
     "data": {
      "text/plain": [
       "['one', 'TWO ALL CAPS', 'three', 'four']"
      ]
     },
     "execution_count": 294,
     "metadata": {},
     "output_type": "execute_result"
    }
   ],
   "source": [
    "total_list"
   ]
  },
  {
   "cell_type": "code",
   "execution_count": 295,
   "id": "1107ded9",
   "metadata": {},
   "outputs": [
    {
     "data": {
      "text/plain": [
       "'four'"
      ]
     },
     "execution_count": 295,
     "metadata": {},
     "output_type": "execute_result"
    }
   ],
   "source": [
    "# Popping of the specific item\n",
    "total_list.pop(3)"
   ]
  },
  {
   "cell_type": "code",
   "execution_count": 296,
   "id": "137e0105",
   "metadata": {},
   "outputs": [
    {
     "data": {
      "text/plain": [
       "['one', 'TWO ALL CAPS', 'three']"
      ]
     },
     "execution_count": 296,
     "metadata": {},
     "output_type": "execute_result"
    }
   ],
   "source": [
    "total_list"
   ]
  },
  {
   "cell_type": "code",
   "execution_count": 297,
   "id": "2a3a79b2",
   "metadata": {},
   "outputs": [],
   "source": [
    "total_list=['a','e','x','d','z']\n",
    "num_list = [4,5,2,7,1]"
   ]
  },
  {
   "cell_type": "code",
   "execution_count": 298,
   "id": "33075080",
   "metadata": {},
   "outputs": [],
   "source": [
    "# Sort to sort the list items as per alphabatical order \n",
    "# Does not return the sorted values it keep it in variable as it is\n",
    "# eg:total_list.sort() = value in total_list itself\n",
    "total_list.sort() "
   ]
  },
  {
   "cell_type": "code",
   "execution_count": 299,
   "id": "ead12727",
   "metadata": {},
   "outputs": [
    {
     "data": {
      "text/plain": [
       "['a', 'd', 'e', 'x', 'z']"
      ]
     },
     "execution_count": 299,
     "metadata": {},
     "output_type": "execute_result"
    }
   ],
   "source": [
    "total_list"
   ]
  },
  {
   "cell_type": "code",
   "execution_count": 300,
   "id": "2fe4e21c",
   "metadata": {},
   "outputs": [],
   "source": [
    "# Sorting numbers list as per order\n",
    "# Does not return the sorted values it keep it in variable as it is \n",
    "# eg:num_list.sort() = value in num_list itself\n",
    "num_list.sort()\n"
   ]
  },
  {
   "cell_type": "code",
   "execution_count": 301,
   "id": "a96c6079",
   "metadata": {},
   "outputs": [
    {
     "data": {
      "text/plain": [
       "[1, 2, 4, 5, 7]"
      ]
     },
     "execution_count": 301,
     "metadata": {},
     "output_type": "execute_result"
    }
   ],
   "source": [
    "num_list"
   ]
  },
  {
   "cell_type": "code",
   "execution_count": 302,
   "id": "d0a240bc",
   "metadata": {},
   "outputs": [],
   "source": [
    "# Reverse the list items\n",
    "num_list.reverse()"
   ]
  },
  {
   "cell_type": "code",
   "execution_count": 303,
   "id": "63fe63bf",
   "metadata": {},
   "outputs": [
    {
     "data": {
      "text/plain": [
       "[7, 5, 4, 2, 1]"
      ]
     },
     "execution_count": 303,
     "metadata": {},
     "output_type": "execute_result"
    }
   ],
   "source": [
    "num_list"
   ]
  },
  {
   "cell_type": "code",
   "execution_count": 304,
   "id": "b9e3f14a",
   "metadata": {},
   "outputs": [],
   "source": [
    "total_list.reverse()"
   ]
  },
  {
   "cell_type": "code",
   "execution_count": 305,
   "id": "ce29fc68",
   "metadata": {},
   "outputs": [
    {
     "data": {
      "text/plain": [
       "['z', 'x', 'e', 'd', 'a']"
      ]
     },
     "execution_count": 305,
     "metadata": {},
     "output_type": "execute_result"
    }
   ],
   "source": [
    "total_list"
   ]
  },
  {
   "cell_type": "code",
   "execution_count": null,
   "id": "ed207b9e",
   "metadata": {},
   "outputs": [],
   "source": []
  }
 ],
 "metadata": {
  "kernelspec": {
   "display_name": "Python 3.9.12 ('base')",
   "language": "python",
   "name": "python3"
  },
  "language_info": {
   "codemirror_mode": {
    "name": "ipython",
    "version": 3
   },
   "file_extension": ".py",
   "mimetype": "text/x-python",
   "name": "python",
   "nbconvert_exporter": "python",
   "pygments_lexer": "ipython3",
   "version": "3.9.12"
  },
  "vscode": {
   "interpreter": {
    "hash": "f1658096e3ad788612abb931e2d14e658e5c89eabb6796d184891d4d35b58bc4"
   }
  }
 },
 "nbformat": 4,
 "nbformat_minor": 5
}
