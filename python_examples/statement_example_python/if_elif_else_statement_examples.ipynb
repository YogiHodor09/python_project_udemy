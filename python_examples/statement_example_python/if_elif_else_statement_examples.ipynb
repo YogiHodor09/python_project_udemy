{
 "cells": [
  {
   "cell_type": "code",
   "execution_count": 4,
   "metadata": {},
   "outputs": [
    {
     "name": "stdout",
     "output_type": "stream",
     "text": [
      "Its true!\n"
     ]
    }
   ],
   "source": [
    "# if else statement example\n",
    "if True:\n",
    "    print('Its true!')"
   ]
  },
  {
   "cell_type": "code",
   "execution_count": 5,
   "metadata": {},
   "outputs": [
    {
     "name": "stdout",
     "output_type": "stream",
     "text": [
      "True !\n"
     ]
    }
   ],
   "source": [
    "if 3 > 2:\n",
    "    print('True !')\n"
   ]
  },
  {
   "cell_type": "code",
   "execution_count": 12,
   "metadata": {},
   "outputs": [
    {
     "name": "stdout",
     "output_type": "stream",
     "text": [
      "I am hungry !\n"
     ]
    }
   ],
   "source": [
    "# if,else statement example using ':'\n",
    "hungry = True\n",
    "if hungry == True:\n",
    "    print('I am hungry !')\n",
    "else:\n",
    "    print('I am not hungry !')\n"
   ]
  },
  {
   "cell_type": "code",
   "execution_count": 23,
   "metadata": {},
   "outputs": [
    {
     "name": "stdout",
     "output_type": "stream",
     "text": [
      "Yeah I am in home !\n"
     ]
    }
   ],
   "source": [
    "# if, elif , else statement example using ':'\n",
    "loc = 'Home'\n",
    "if loc == 'Office':\n",
    "    print('I am in office!')  # Intedended code spacing before statement line\n",
    "elif loc == 'Home':\n",
    "    # Intedended code spacing before statement line\n",
    "    print('Yeah I am in home !')\n",
    "elif loc == 'School':\n",
    "    print('I am in school !')\n",
    "else:\n",
    "    # Intedended code spacing before statement line\n",
    "    print('I am in nowhere else !')\n"
   ]
  }
 ],
 "metadata": {
  "kernelspec": {
   "display_name": "Python 3.9.12 ('base')",
   "language": "python",
   "name": "python3"
  },
  "language_info": {
   "codemirror_mode": {
    "name": "ipython",
    "version": 3
   },
   "file_extension": ".py",
   "mimetype": "text/x-python",
   "name": "python",
   "nbconvert_exporter": "python",
   "pygments_lexer": "ipython3",
   "version": "3.9.12"
  },
  "orig_nbformat": 4,
  "vscode": {
   "interpreter": {
    "hash": "f1658096e3ad788612abb931e2d14e658e5c89eabb6796d184891d4d35b58bc4"
   }
  }
 },
 "nbformat": 4,
 "nbformat_minor": 2
}
