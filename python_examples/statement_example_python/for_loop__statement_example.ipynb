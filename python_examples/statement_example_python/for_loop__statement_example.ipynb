{
 "cells": [
  {
   "cell_type": "code",
   "execution_count": 1,
   "metadata": {},
   "outputs": [],
   "source": [
    "# Using for loop for iteration\n",
    "mylists = [1, 2, 3, 4, 5, 6, 7, 8, 9, 10]\n"
   ]
  },
  {
   "cell_type": "code",
   "execution_count": 11,
   "metadata": {},
   "outputs": [
    {
     "name": "stdout",
     "output_type": "stream",
     "text": [
      "1\n",
      "2\n",
      "3\n",
      "4\n",
      "5\n",
      "6\n",
      "7\n",
      "8\n",
      "9\n",
      "10\n"
     ]
    }
   ],
   "source": [
    "# Iterating the loop\n",
    "for my_numbers in mylists:\n",
    "    print(my_numbers)  # Intedended code spacing before statement line\n"
   ]
  },
  {
   "cell_type": "code",
   "execution_count": 12,
   "metadata": {},
   "outputs": [
    {
     "name": "stdout",
     "output_type": "stream",
     "text": [
      "hello\n",
      "hello\n",
      "hello\n",
      "hello\n",
      "hello\n",
      "hello\n",
      "hello\n",
      "hello\n",
      "hello\n",
      "hello\n"
     ]
    }
   ],
   "source": [
    "# Iterating the loop\n",
    "for my_numbers in mylists:\n",
    "    print('hello')  # Looping the content we want for each item \n"
   ]
  },
  {
   "cell_type": "code",
   "execution_count": 15,
   "metadata": {},
   "outputs": [
    {
     "name": "stdout",
     "output_type": "stream",
     "text": [
      "Odd Number : 1\n",
      "2\n",
      "Odd Number : 3\n",
      "4\n",
      "Odd Number : 5\n",
      "6\n",
      "Odd Number : 7\n",
      "8\n",
      "Odd Number : 9\n",
      "10\n"
     ]
    }
   ],
   "source": [
    "# check for even numbers inside the list\n",
    "for num in mylists:\n",
    "    if num % 2 == 0:\n",
    "        print(num)\n",
    "    else:\n",
    "        print(f'Odd Number : {num}') # Returning it while looping the nums\n",
    "\n"
   ]
  },
  {
   "cell_type": "code",
   "execution_count": 16,
   "metadata": {},
   "outputs": [
    {
     "name": "stdout",
     "output_type": "stream",
     "text": [
      "55\n"
     ]
    }
   ],
   "source": [
    "# Adding the numbers inside the list\n",
    "list_sum = 0\n",
    "for num in mylists:\n",
    "    # Adding the numbers inside the list Eg : 0 = 0+1 , 1 = 1+1 etc ..\n",
    "    list_sum = list_sum+num\n",
    "\n",
    "print(list_sum) # print statement outside of for loop\n"
   ]
  },
  {
   "cell_type": "code",
   "execution_count": 17,
   "metadata": {},
   "outputs": [
    {
     "name": "stdout",
     "output_type": "stream",
     "text": [
      "Y\n",
      "o\n",
      "g\n",
      "e\n",
      "s\n",
      "h\n",
      "w\n",
      "a\n",
      "r\n",
      " \n",
      "S\n",
      "e\n",
      "l\n",
      "v\n",
      "a\n",
      "m\n"
     ]
    }
   ],
   "source": [
    "# Loop String chars\n",
    "my_name = 'Yogeshwar Selvam'\n",
    "\n",
    "for name in my_name:\n",
    "    print(name)\n"
   ]
  },
  {
   "cell_type": "code",
   "execution_count": 18,
   "metadata": {},
   "outputs": [
    {
     "name": "stdout",
     "output_type": "stream",
     "text": [
      "Yogeshwar\n",
      "1\n",
      "2\n",
      "3\n"
     ]
    }
   ],
   "source": [
    "# Iterate tuple\n",
    "my_tup=('Yogeshwar',1,2,3)\n",
    "\n",
    "for item in my_tup:\n",
    "    print(item)"
   ]
  },
  {
   "cell_type": "code",
   "execution_count": 29,
   "metadata": {},
   "outputs": [],
   "source": [
    "# tuple and packing\n",
    "my_tup_list = [(1,2),(3,4),(5,6),(7,8)]"
   ]
  },
  {
   "cell_type": "code",
   "execution_count": 30,
   "metadata": {},
   "outputs": [
    {
     "data": {
      "text/plain": [
       "4"
      ]
     },
     "execution_count": 30,
     "metadata": {},
     "output_type": "execute_result"
    }
   ],
   "source": [
    "len(my_tup_list)"
   ]
  },
  {
   "cell_type": "code",
   "execution_count": 31,
   "metadata": {},
   "outputs": [
    {
     "name": "stdout",
     "output_type": "stream",
     "text": [
      "(1, 2)\n",
      "(3, 4)\n",
      "(5, 6)\n",
      "(7, 8)\n"
     ]
    }
   ],
   "source": [
    "# Looping the list with tuples\n",
    "for tup_item in my_tup_list:\n",
    "    print(tup_item)"
   ]
  },
  {
   "cell_type": "code",
   "execution_count": 34,
   "metadata": {},
   "outputs": [
    {
     "name": "stdout",
     "output_type": "stream",
     "text": [
      "1\n",
      "3\n",
      "5\n",
      "7\n"
     ]
    }
   ],
   "source": [
    "# print each item inside the tuple with dummy tuple variable (a,b) - tuple and packing\n",
    "for (a, b) in my_tup_list:\n",
    "    print(a)  # printing the first item inside each tuple a - prints 1,3,5,7\n"
   ]
  },
  {
   "cell_type": "code",
   "execution_count": 35,
   "metadata": {},
   "outputs": [
    {
     "name": "stdout",
     "output_type": "stream",
     "text": [
      "2\n",
      "4\n",
      "6\n",
      "8\n"
     ]
    }
   ],
   "source": [
    "# print each item inside the tuple with dummy tuple variable (a,b) - tuple and packing\n",
    "for (a, b) in my_tup_list:\n",
    "    print(b)  # printing the first item inside each tuple 'b' - prints 2,4,6,8\n"
   ]
  },
  {
   "cell_type": "code",
   "execution_count": 36,
   "metadata": {},
   "outputs": [
    {
     "name": "stdout",
     "output_type": "stream",
     "text": [
      "1 2\n",
      "3 4\n",
      "5 6\n",
      "7 8\n"
     ]
    }
   ],
   "source": [
    "# print each item inside the tuple with dummy tuple variable (a,b) - tuple and packing\n",
    "for (a, b) in my_tup_list:\n",
    "    print(a,b)  # printing the first item inside each tuple (a,b) - (1,2),(3,4) ...\n",
    "    \n"
   ]
  },
  {
   "cell_type": "code",
   "execution_count": 37,
   "metadata": {},
   "outputs": [
    {
     "name": "stdout",
     "output_type": "stream",
     "text": [
      "1\n",
      "3\n",
      "5\n",
      "7\n"
     ]
    }
   ],
   "source": [
    "# Without parenthesis getting tuple items in loop\n",
    "for a, b in my_tup_list:\n",
    "    print(a)  # printing the first item inside each tuple\n",
    "    # print(b)\n"
   ]
  },
  {
   "cell_type": "code",
   "execution_count": 38,
   "metadata": {},
   "outputs": [],
   "source": [
    "my_new_tup = [(1,2,3),(5,6,7),(8,9,10)]"
   ]
  },
  {
   "cell_type": "code",
   "execution_count": 40,
   "metadata": {},
   "outputs": [
    {
     "name": "stdout",
     "output_type": "stream",
     "text": [
      "1\n",
      "5\n",
      "8\n"
     ]
    }
   ],
   "source": [
    "for a, b, c in my_new_tup:\n",
    "    print(a)\n"
   ]
  },
  {
   "cell_type": "code",
   "execution_count": 43,
   "metadata": {},
   "outputs": [],
   "source": [
    "# looping the dictionary\n",
    "d = {'k1':'Yogeshwar','k2':'Selvam','k3':1994}"
   ]
  },
  {
   "cell_type": "code",
   "execution_count": 44,
   "metadata": {},
   "outputs": [
    {
     "name": "stdout",
     "output_type": "stream",
     "text": [
      "k1\n",
      "k2\n",
      "k3\n"
     ]
    }
   ],
   "source": [
    "for dict_item in d:\n",
    "    print(dict_item) # Print only keys by 'default'"
   ]
  },
  {
   "cell_type": "code",
   "execution_count": 46,
   "metadata": {},
   "outputs": [
    {
     "name": "stdout",
     "output_type": "stream",
     "text": [
      "('k1', 'Yogeshwar')\n",
      "('k2', 'Selvam')\n",
      "('k3', 1994)\n"
     ]
    }
   ],
   "source": [
    "# to loop and get items inside dictionary\n",
    "for dict in d.items(): # d.items() - will iterate the values for each key and return it back as original dict\n",
    "    print(dict)"
   ]
  },
  {
   "cell_type": "code",
   "execution_count": 54,
   "metadata": {},
   "outputs": [
    {
     "name": "stdout",
     "output_type": "stream",
     "text": [
      "k1\n",
      "Yogeshwar\n",
      "key k1 : value Yogeshwar\n",
      "k2\n",
      "Selvam\n",
      "key k2 : value Selvam\n",
      "k3\n",
      "1994\n",
      "key k3 : value 1994\n"
     ]
    }
   ],
   "source": [
    "# to print only values inside the dict\n",
    "for key, value in d.items():  # key,value variable contains {key:value} and\n",
    "    # d.items() will return each item of dict\n",
    "    print(key) # print values only insid dict\n",
    "    print(value) # print keys for each dict\n",
    "    print(f'key {key} : value {value}')  # print {Key : Value} for each dict\n"
   ]
  },
  {
   "cell_type": "code",
   "execution_count": 57,
   "metadata": {},
   "outputs": [
    {
     "name": "stdout",
     "output_type": "stream",
     "text": [
      "Yogeshwar\n",
      "Selvam\n",
      "1994\n"
     ]
    }
   ],
   "source": [
    "# another method to print the values itself for dict\n",
    "for values in d.values(): # d.values() - prints the values only for Dict\n",
    "    print(values)\n"
   ]
  },
  {
   "cell_type": "code",
   "execution_count": null,
   "metadata": {},
   "outputs": [],
   "source": []
  }
 ],
 "metadata": {
  "kernelspec": {
   "display_name": "Python 3.9.12 ('base')",
   "language": "python",
   "name": "python3"
  },
  "language_info": {
   "codemirror_mode": {
    "name": "ipython",
    "version": 3
   },
   "file_extension": ".py",
   "mimetype": "text/x-python",
   "name": "python",
   "nbconvert_exporter": "python",
   "pygments_lexer": "ipython3",
   "version": "3.9.12"
  },
  "orig_nbformat": 4,
  "vscode": {
   "interpreter": {
    "hash": "f1658096e3ad788612abb931e2d14e658e5c89eabb6796d184891d4d35b58bc4"
   }
  }
 },
 "nbformat": 4,
 "nbformat_minor": 2
}
