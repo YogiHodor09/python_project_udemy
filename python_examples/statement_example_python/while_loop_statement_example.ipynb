{
 "cells": [
  {
   "cell_type": "code",
   "execution_count": 7,
   "metadata": {},
   "outputs": [
    {
     "name": "stdout",
     "output_type": "stream",
     "text": [
      "The current value of x 0\n",
      "The current value of x 1\n",
      "The current value of x 2\n",
      "The current value of x 3\n",
      "The current value of x 4\n"
     ]
    }
   ],
   "source": [
    "# While loop keeps executing the condition is until False\n",
    "\n",
    "x = 0\n",
    "while x < 5:\n",
    "    print(f'The current value of x {x}')\n",
    "\n",
    "    x += 1  # literally equals to 'x = x+1' , if x > 5 then while loop terminates\n"
   ]
  },
  {
   "cell_type": "code",
   "execution_count": 13,
   "metadata": {},
   "outputs": [
    {
     "name": "stdout",
     "output_type": "stream",
     "text": [
      "The current value of x 0\n",
      "The current value of x 1\n",
      "The current value of x 2\n",
      "The current value of x 3\n",
      "The current value of x 4\n",
      "X IS NOT LESS THAN 5\n"
     ]
    }
   ],
   "source": [
    "# While loop keeps executing the condition is until False\n",
    "\n",
    "x = 0\n",
    "while x < 5:\n",
    "    print(f'The current value of x {x}')\n",
    "\n",
    "    x += 1  # literally equals to 'x = x+1' , if x > 5 then while loop terminates\n",
    "\n",
    "else:  # If while statement becomes False else loop executes\n",
    "    print('X IS NOT LESS THAN 5')\n"
   ]
  },
  {
   "cell_type": "code",
   "execution_count": 14,
   "metadata": {},
   "outputs": [
    {
     "name": "stdout",
     "output_type": "stream",
     "text": [
      "End of my script\n"
     ]
    }
   ],
   "source": [
    "# break , continue , pass keywords for loop\n",
    "x = [1, 2, 3, 4]\n",
    "for num in x:\n",
    "    # give pass to say do nothing here and to avoid any syntax error in python\n",
    "    pass\n",
    "print('End of my script')\n"
   ]
  },
  {
   "cell_type": "code",
   "execution_count": 15,
   "metadata": {},
   "outputs": [
    {
     "name": "stdout",
     "output_type": "stream",
     "text": [
      "Y\n",
      "o\n",
      "g\n",
      "e\n",
      "s\n",
      "h\n",
      "w\n",
      "a\n",
      "r\n"
     ]
    }
   ],
   "source": [
    "# continue keyword\n",
    "myName = 'Yogeshwar'\n",
    "for letter in myName:\n",
    "    print(letter)\n"
   ]
  },
  {
   "cell_type": "code",
   "execution_count": 17,
   "metadata": {},
   "outputs": [
    {
     "name": "stdout",
     "output_type": "stream",
     "text": [
      "Y\n",
      "o\n",
      "g\n",
      "s\n",
      "h\n",
      "w\n",
      "a\n",
      "r\n"
     ]
    }
   ],
   "source": [
    "# continue keyword\n",
    "myName = 'Yogeshwar'\n",
    "for letter in myName:\n",
    "    if letter == 'e':  # skip printing the letter 'e' and\n",
    "        # allow the loop to continue with containing values from the beginning\n",
    "        continue\n",
    "    print(letter)\n"
   ]
  },
  {
   "cell_type": "code",
   "execution_count": 21,
   "metadata": {},
   "outputs": [
    {
     "name": "stdout",
     "output_type": "stream",
     "text": [
      "Y\n",
      "o\n",
      "g\n"
     ]
    }
   ],
   "source": [
    "# break keyword\n",
    "myName = 'Yogeshwar'\n",
    "for letter in myName:\n",
    "    if letter == 'e':\n",
    "        break  # allow the loop to terminates, when loop hits with the char contains 'e'\n",
    "    print(letter)\n"
   ]
  },
  {
   "cell_type": "code",
   "execution_count": 24,
   "metadata": {},
   "outputs": [
    {
     "name": "stdout",
     "output_type": "stream",
     "text": [
      "0\n",
      "1\n"
     ]
    }
   ],
   "source": [
    "# 'break' with 'while' loop\n",
    "x = 0\n",
    "while x < 5:\n",
    "    if x == 2: \n",
    "        break # 'break' the above loop while x == 2\n",
    "    print(x)\n",
    "    x += 1\n"
   ]
  },
  {
   "cell_type": "code",
   "execution_count": null,
   "metadata": {},
   "outputs": [],
   "source": []
  }
 ],
 "metadata": {
  "kernelspec": {
   "display_name": "Python 3.9.12 ('base')",
   "language": "python",
   "name": "python3"
  },
  "language_info": {
   "codemirror_mode": {
    "name": "ipython",
    "version": 3
   },
   "file_extension": ".py",
   "mimetype": "text/x-python",
   "name": "python",
   "nbconvert_exporter": "python",
   "pygments_lexer": "ipython3",
   "version": "3.9.12"
  },
  "orig_nbformat": 4,
  "vscode": {
   "interpreter": {
    "hash": "f1658096e3ad788612abb931e2d14e658e5c89eabb6796d184891d4d35b58bc4"
   }
  }
 },
 "nbformat": 4,
 "nbformat_minor": 2
}
