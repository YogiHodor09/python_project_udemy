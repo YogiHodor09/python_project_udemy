{
 "cells": [
  {
   "cell_type": "code",
   "execution_count": 4,
   "metadata": {},
   "outputs": [],
   "source": [
    "# create the game list\n",
    "games_list = [0,1,2]"
   ]
  },
  {
   "cell_type": "code",
   "execution_count": 5,
   "metadata": {},
   "outputs": [],
   "source": [
    "def display_game(games_list):\n",
    "    print('Here is the game list')\n",
    "    print(games_list)"
   ]
  },
  {
   "cell_type": "code",
   "execution_count": 6,
   "metadata": {},
   "outputs": [
    {
     "name": "stdout",
     "output_type": "stream",
     "text": [
      "Here is the game list\n",
      "[0, 1, 2]\n"
     ]
    }
   ],
   "source": [
    "display_game(games_list)"
   ]
  },
  {
   "cell_type": "code",
   "execution_count": 7,
   "metadata": {},
   "outputs": [],
   "source": [
    "# position to get an list index\n",
    "def position_choice():\n",
    "\n",
    "    choice = 'Wrong'\n",
    "\n",
    "    while choice not in ['0', '1', '2']:\n",
    "        choice = input('Pick a position (0,1,2): ')\n",
    "\n",
    "        if choice not in ['0', '1', '2']:\n",
    "            print('Sorry, Invalid choice!')\n",
    "\n",
    "    return int(choice)\n"
   ]
  },
  {
   "cell_type": "code",
   "execution_count": 8,
   "metadata": {},
   "outputs": [
    {
     "name": "stdout",
     "output_type": "stream",
     "text": [
      "Sorry, Invalid choice!\n",
      "Sorry, Invalid choice!\n"
     ]
    },
    {
     "data": {
      "text/plain": [
       "1"
      ]
     },
     "execution_count": 8,
     "metadata": {},
     "output_type": "execute_result"
    }
   ],
   "source": [
    "position_choice()"
   ]
  },
  {
   "cell_type": "code",
   "execution_count": 9,
   "metadata": {},
   "outputs": [],
   "source": [
    "# replacement value for position \n",
    "def replacement_choice(games_list,position):\n",
    "    user_placement = input('Type a string to place at position: ')\n",
    "    games_list[position] = user_placement\n",
    "\n",
    "    return games_list\n",
    "\n"
   ]
  },
  {
   "cell_type": "code",
   "execution_count": 10,
   "metadata": {},
   "outputs": [
    {
     "data": {
      "text/plain": [
       "[0, 'test', 2]"
      ]
     },
     "execution_count": 10,
     "metadata": {},
     "output_type": "execute_result"
    }
   ],
   "source": [
    "replacement_choice(games_list,1)"
   ]
  },
  {
   "cell_type": "code",
   "execution_count": 11,
   "metadata": {},
   "outputs": [],
   "source": [
    "# game on choice like Y or N to continue the game.\n",
    "\n",
    "def gameon_choice():\n",
    "\n",
    "    choice = 'Wrong'\n",
    "\n",
    "    while choice not in ['Y', 'N']:\n",
    "        choice = input('Keep Playing? (Y or N): ')\n",
    "\n",
    "        if choice not in ['Y', 'N']:\n",
    "            print('Sorry, I dont understand, please choose Y or N')\n",
    "\n",
    "    if choice == 'Y':\n",
    "        return True\n",
    "    else:\n",
    "        return False\n"
   ]
  },
  {
   "cell_type": "code",
   "execution_count": 12,
   "metadata": {},
   "outputs": [
    {
     "name": "stdout",
     "output_type": "stream",
     "text": [
      "Sorry, I dont understand, please choose Y or N\n",
      "Sorry, I dont understand, please choose Y or N\n"
     ]
    },
    {
     "data": {
      "text/plain": [
       "False"
      ]
     },
     "execution_count": 12,
     "metadata": {},
     "output_type": "execute_result"
    }
   ],
   "source": [
    "gameon_choice()"
   ]
  },
  {
   "cell_type": "code",
   "execution_count": 14,
   "metadata": {},
   "outputs": [
    {
     "name": "stdout",
     "output_type": "stream",
     "text": [
      "Here is the game list\n",
      "[0, 1, 2]\n",
      "Here is the game list\n",
      "['Test', 1, 2]\n"
     ]
    }
   ],
   "source": [
    "# combining all together for the game\n",
    "game_on = True\n",
    "games_list = [0, 1, 2]\n",
    "\n",
    "while game_on:  # Loop stops when user inputs N or its continues\n",
    "\n",
    "    display_game(games_list)\n",
    "    position = position_choice()\n",
    "    games_list = replacement_choice(games_list, position)\n",
    "    display_game(games_list)\n",
    "    game_on = gameon_choice()\n"
   ]
  },
  {
   "cell_type": "code",
   "execution_count": null,
   "metadata": {},
   "outputs": [],
   "source": []
  }
 ],
 "metadata": {
  "kernelspec": {
   "display_name": "Python 3.9.12 ('base')",
   "language": "python",
   "name": "python3"
  },
  "language_info": {
   "codemirror_mode": {
    "name": "ipython",
    "version": 3
   },
   "file_extension": ".py",
   "mimetype": "text/x-python",
   "name": "python",
   "nbconvert_exporter": "python",
   "pygments_lexer": "ipython3",
   "version": "3.9.12"
  },
  "orig_nbformat": 4,
  "vscode": {
   "interpreter": {
    "hash": "f1658096e3ad788612abb931e2d14e658e5c89eabb6796d184891d4d35b58bc4"
   }
  }
 },
 "nbformat": 4,
 "nbformat_minor": 2
}
