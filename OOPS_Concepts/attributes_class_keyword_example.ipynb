{
 "cells": [
  {
   "cell_type": "code",
   "execution_count": 28,
   "metadata": {},
   "outputs": [],
   "source": [
    "class Dog():\n",
    "\n",
    "    # create attributes\n",
    "    # __init__ is basically a constructor of a class , automatically create the instance of a class\n",
    "    # self will create the instance object of the class\n",
    "\n",
    "    # Class object attribute\n",
    "    # same for any instance of a class\n",
    "    species = 'mammal'\n",
    "\n",
    "\n",
    "    def __init__(self, breed,name):  \n",
    "        self.breed = breed # attribute 1\n",
    "        self.name = name  # attribute 2\n",
    "        \n",
    "\n",
    "    # OPERATIONS / ACTIONS -- METHODS\n",
    "    def bark(self,age) :\n",
    "        print('Boww!  My name is {} and age is {}'.format(self.name,age))\n"
   ]
  },
  {
   "cell_type": "code",
   "execution_count": 29,
   "metadata": {},
   "outputs": [],
   "source": [
    "my_dog = Dog('Huskie','Bruno')\n"
   ]
  },
  {
   "cell_type": "code",
   "execution_count": 30,
   "metadata": {},
   "outputs": [
    {
     "data": {
      "text/plain": [
       "'Bruno'"
      ]
     },
     "execution_count": 30,
     "metadata": {},
     "output_type": "execute_result"
    }
   ],
   "source": [
    "my_dog.name"
   ]
  },
  {
   "cell_type": "code",
   "execution_count": 31,
   "metadata": {},
   "outputs": [
    {
     "name": "stdout",
     "output_type": "stream",
     "text": [
      "Boww!  My name is Bruno and age is 20\n"
     ]
    }
   ],
   "source": [
    "my_dog.bark(20)"
   ]
  },
  {
   "cell_type": "code",
   "execution_count": 40,
   "metadata": {},
   "outputs": [],
   "source": [
    "# get radius of the circle\n",
    "\n",
    "class Circle():\n",
    "    pi = 3.14\n",
    "\n",
    "    def __init__(self, radius=1):\n",
    "\n",
    "        self.radius = radius\n",
    "        self.area = self.radius * self.radius * Circle.pi\n",
    "\n",
    "    # method\n",
    "    def get_circumference(self):\n",
    "        return self.radius * self.pi * 2\n"
   ]
  },
  {
   "cell_type": "code",
   "execution_count": 41,
   "metadata": {},
   "outputs": [],
   "source": [
    "my_circle = Circle(30)"
   ]
  },
  {
   "cell_type": "code",
   "execution_count": 42,
   "metadata": {},
   "outputs": [
    {
     "data": {
      "text/plain": [
       "3.14"
      ]
     },
     "execution_count": 42,
     "metadata": {},
     "output_type": "execute_result"
    }
   ],
   "source": [
    "my_circle.pi"
   ]
  },
  {
   "cell_type": "code",
   "execution_count": 43,
   "metadata": {},
   "outputs": [
    {
     "data": {
      "text/plain": [
       "2826.0"
      ]
     },
     "execution_count": 43,
     "metadata": {},
     "output_type": "execute_result"
    }
   ],
   "source": [
    "my_circle.area"
   ]
  },
  {
   "cell_type": "code",
   "execution_count": 44,
   "metadata": {},
   "outputs": [
    {
     "data": {
      "text/plain": [
       "188.4"
      ]
     },
     "execution_count": 44,
     "metadata": {},
     "output_type": "execute_result"
    }
   ],
   "source": [
    "my_circle.get_circumference()"
   ]
  },
  {
   "cell_type": "code",
   "execution_count": null,
   "metadata": {},
   "outputs": [],
   "source": []
  }
 ],
 "metadata": {
  "kernelspec": {
   "display_name": "Python 3.9.12 ('base')",
   "language": "python",
   "name": "python3"
  },
  "language_info": {
   "codemirror_mode": {
    "name": "ipython",
    "version": 3
   },
   "file_extension": ".py",
   "mimetype": "text/x-python",
   "name": "python",
   "nbconvert_exporter": "python",
   "pygments_lexer": "ipython3",
   "version": "3.9.12"
  },
  "orig_nbformat": 4,
  "vscode": {
   "interpreter": {
    "hash": "f1658096e3ad788612abb931e2d14e658e5c89eabb6796d184891d4d35b58bc4"
   }
  }
 },
 "nbformat": 4,
 "nbformat_minor": 2
}
