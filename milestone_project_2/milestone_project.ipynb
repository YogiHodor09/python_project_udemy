{
 "cells": [
  {
   "cell_type": "code",
   "execution_count": 357,
   "metadata": {},
   "outputs": [],
   "source": [
    "# CARD CLASS\n",
    "# SUIT , RANK , VALUE\n",
    "import random\n",
    "suits = ('Hearts', 'Diamonds', 'Spades', 'Clubs')\n",
    "ranks = ('Two', 'Three', 'Four', 'Five', 'Six', 'Seven',\n",
    "         'Eight', 'Nine', 'Ten', 'Jack', 'Queen', 'King', 'Ace')\n",
    "\n",
    "values = {'Two': 2, 'Three': 3, 'Four': 4, 'Five': 5, 'Six': 6, 'Seven': 7, 'Eight': 8,\n",
    "          'Nine': 9, 'Ten': 10, 'Jack': 11, 'Queen': 12, 'King': 13, 'Ace': 14}\n"
   ]
  },
  {
   "cell_type": "code",
   "execution_count": 358,
   "metadata": {},
   "outputs": [],
   "source": [
    "class Card:\n",
    "\n",
    "    def __init__(self, suit, rank):\n",
    "        self.suit = suit\n",
    "        self.rank = rank\n",
    "        self.value = values[rank]\n",
    "\n",
    "    def __str__(self):\n",
    "        return self.rank + ' of ' + self.suit\n"
   ]
  },
  {
   "cell_type": "code",
   "execution_count": 359,
   "metadata": {},
   "outputs": [],
   "source": [
    "three_of_clubs = Card('Clubs','Three')\n"
   ]
  },
  {
   "cell_type": "code",
   "execution_count": 360,
   "metadata": {},
   "outputs": [
    {
     "data": {
      "text/plain": [
       "'Three'"
      ]
     },
     "execution_count": 360,
     "metadata": {},
     "output_type": "execute_result"
    }
   ],
   "source": [
    "three_of_clubs.rank"
   ]
  },
  {
   "cell_type": "code",
   "execution_count": 361,
   "metadata": {},
   "outputs": [
    {
     "data": {
      "text/plain": [
       "3"
      ]
     },
     "execution_count": 361,
     "metadata": {},
     "output_type": "execute_result"
    }
   ],
   "source": [
    "three_of_clubs.value"
   ]
  },
  {
   "cell_type": "code",
   "execution_count": 362,
   "metadata": {},
   "outputs": [],
   "source": [
    "two_hearts = Card('Hearts','Two')"
   ]
  },
  {
   "cell_type": "code",
   "execution_count": 363,
   "metadata": {},
   "outputs": [
    {
     "data": {
      "text/plain": [
       "<__main__.Card at 0x1f9e6765790>"
      ]
     },
     "execution_count": 363,
     "metadata": {},
     "output_type": "execute_result"
    }
   ],
   "source": [
    "two_hearts"
   ]
  },
  {
   "cell_type": "code",
   "execution_count": 364,
   "metadata": {},
   "outputs": [
    {
     "name": "stdout",
     "output_type": "stream",
     "text": [
      "Two of Hearts\n"
     ]
    }
   ],
   "source": [
    "print(two_hearts)"
   ]
  },
  {
   "cell_type": "code",
   "execution_count": 365,
   "metadata": {},
   "outputs": [
    {
     "data": {
      "text/plain": [
       "'Hearts'"
      ]
     },
     "execution_count": 365,
     "metadata": {},
     "output_type": "execute_result"
    }
   ],
   "source": [
    "two_hearts.suit"
   ]
  },
  {
   "cell_type": "code",
   "execution_count": 366,
   "metadata": {},
   "outputs": [
    {
     "data": {
      "text/plain": [
       "'Two'"
      ]
     },
     "execution_count": 366,
     "metadata": {},
     "output_type": "execute_result"
    }
   ],
   "source": [
    "two_hearts.rank"
   ]
  },
  {
   "cell_type": "code",
   "execution_count": 367,
   "metadata": {},
   "outputs": [],
   "source": [
    "values = {'Two': 2, 'Three': 3, 'Four': 4, 'Five': 5, 'Six': 6, 'Seven': 7, 'Eight': 8,\n",
    "          'Nine': 9, 'Ten': 10, 'Jack': 11, 'Queen': 12, 'King': 13, 'Ace': 14}\n"
   ]
  },
  {
   "cell_type": "code",
   "execution_count": 368,
   "metadata": {},
   "outputs": [
    {
     "data": {
      "text/plain": [
       "False"
      ]
     },
     "execution_count": 368,
     "metadata": {},
     "output_type": "execute_result"
    }
   ],
   "source": [
    "two_hearts.value == three_of_clubs.value"
   ]
  },
  {
   "cell_type": "code",
   "execution_count": 369,
   "metadata": {},
   "outputs": [],
   "source": [
    "\n",
    "\n",
    "\n",
    "class Deck:\n",
    "\n",
    "    def __init__(self):\n",
    "        self.all_cards = []\n",
    "\n",
    "        for suit in suits:\n",
    "            for rank in ranks:\n",
    "                # CREATE THE CARD OBJECTS FOR 52 CARDS\n",
    "                created_card = Card(suit, rank)\n",
    "                self.all_cards.append(created_card)\n",
    "\n",
    "    def shuffle_deck(self):\n",
    "        random.shuffle(self.all_cards)\n",
    "\n",
    "    def deal_one(self):\n",
    "        return self.all_cards.pop()\n",
    "\n"
   ]
  },
  {
   "cell_type": "code",
   "execution_count": 370,
   "metadata": {},
   "outputs": [
    {
     "name": "stdout",
     "output_type": "stream",
     "text": [
      "Six of Clubs\n"
     ]
    },
    {
     "data": {
      "text/plain": [
       "51"
      ]
     },
     "execution_count": 370,
     "metadata": {},
     "output_type": "execute_result"
    }
   ],
   "source": [
    "new_deck = Deck()\n",
    "\n",
    "new_deck.shuffle_deck()\n",
    "mycard = new_deck.deal_one()\n",
    "\n",
    "print(mycard)\n",
    "\n",
    "len(new_deck.all_cards)"
   ]
  },
  {
   "cell_type": "code",
   "execution_count": 371,
   "metadata": {},
   "outputs": [],
   "source": [
    "bottom_card = new_deck.all_cards[0]"
   ]
  },
  {
   "cell_type": "code",
   "execution_count": 372,
   "metadata": {},
   "outputs": [
    {
     "name": "stdout",
     "output_type": "stream",
     "text": [
      "Queen of Clubs\n"
     ]
    }
   ],
   "source": [
    "print(bottom_card)\n"
   ]
  },
  {
   "cell_type": "code",
   "execution_count": 373,
   "metadata": {},
   "outputs": [],
   "source": [
    "new_deck.shuffle_deck()"
   ]
  },
  {
   "cell_type": "code",
   "execution_count": 374,
   "metadata": {},
   "outputs": [
    {
     "name": "stdout",
     "output_type": "stream",
     "text": [
      "Seven of Diamonds\n"
     ]
    }
   ],
   "source": [
    "print(new_deck.all_cards[0])"
   ]
  },
  {
   "cell_type": "code",
   "execution_count": 375,
   "metadata": {},
   "outputs": [],
   "source": [
    "\n",
    "\n",
    "class Player:\n",
    "\n",
    "    def __init__(self, name):\n",
    "        self.name = name\n",
    "        self.all_cards = []\n",
    "\n",
    "    def remove_one(self):\n",
    "        return self.all_cards.pop(0)\n",
    "\n",
    "    def add_cards(self, new_cards):\n",
    "        if type(new_cards) == type([]):\n",
    "            # EXTEND - MERGES TWO SEPARATE LIST TO ONE LIST OF ITEMS AT THE END\n",
    "            self.all_cards.extend(new_cards)\n",
    "        else:\n",
    "            # APPEND - ADD ONE ITEM AT THE END OF LIST\n",
    "            self.all_cards.append(new_cards)\n",
    "\n",
    "    def __str__(self):\n",
    "        return f'Player {self.name} has {len(self.all_cards)} cards!'\n"
   ]
  },
  {
   "cell_type": "code",
   "execution_count": 376,
   "metadata": {},
   "outputs": [],
   "source": [
    "player = Player('Yogeshwar')\n"
   ]
  },
  {
   "cell_type": "code",
   "execution_count": 377,
   "metadata": {},
   "outputs": [
    {
     "name": "stdout",
     "output_type": "stream",
     "text": [
      "Player Yogeshwar has 0 cards!\n"
     ]
    }
   ],
   "source": [
    "print(player)"
   ]
  },
  {
   "cell_type": "code",
   "execution_count": 378,
   "metadata": {},
   "outputs": [
    {
     "name": "stdout",
     "output_type": "stream",
     "text": [
      "Six of Clubs\n"
     ]
    }
   ],
   "source": [
    "print(mycard)"
   ]
  },
  {
   "cell_type": "code",
   "execution_count": 379,
   "metadata": {},
   "outputs": [],
   "source": [
    "player.add_cards(mycard)"
   ]
  },
  {
   "cell_type": "code",
   "execution_count": 380,
   "metadata": {},
   "outputs": [
    {
     "name": "stdout",
     "output_type": "stream",
     "text": [
      "Player Yogeshwar has 1 cards!\n"
     ]
    }
   ],
   "source": [
    "print(player)"
   ]
  },
  {
   "cell_type": "code",
   "execution_count": 381,
   "metadata": {},
   "outputs": [
    {
     "name": "stdout",
     "output_type": "stream",
     "text": [
      "Six of Clubs\n"
     ]
    }
   ],
   "source": [
    "print(player.all_cards[0])"
   ]
  },
  {
   "cell_type": "code",
   "execution_count": 382,
   "metadata": {},
   "outputs": [],
   "source": [
    "player.add_cards([mycard,mycard,mycard])"
   ]
  },
  {
   "cell_type": "code",
   "execution_count": 383,
   "metadata": {},
   "outputs": [
    {
     "name": "stdout",
     "output_type": "stream",
     "text": [
      "Player Yogeshwar has 4 cards!\n"
     ]
    }
   ],
   "source": [
    "print(player)"
   ]
  },
  {
   "cell_type": "code",
   "execution_count": 384,
   "metadata": {},
   "outputs": [
    {
     "data": {
      "text/plain": [
       "<__main__.Card at 0x1f9e6765cd0>"
      ]
     },
     "execution_count": 384,
     "metadata": {},
     "output_type": "execute_result"
    }
   ],
   "source": [
    "player.remove_one()"
   ]
  },
  {
   "cell_type": "code",
   "execution_count": 385,
   "metadata": {},
   "outputs": [
    {
     "name": "stdout",
     "output_type": "stream",
     "text": [
      "Player Yogeshwar has 3 cards!\n"
     ]
    }
   ],
   "source": [
    "print(player)"
   ]
  },
  {
   "cell_type": "code",
   "execution_count": 386,
   "metadata": {},
   "outputs": [],
   "source": [
    "# LOGIC OF CARD ,DECK , WAR GAME\n",
    "# Game Setup\n",
    "player_one = Player('Yogeshwar')\n",
    "player_two = Player('Danush')\n",
    "\n",
    "new_deck = Deck()   \n",
    "new_deck.shuffle_deck()\n",
    "\n",
    "\n",
    "for x in range(26):\n",
    "    player_one.add_cards(new_deck.deal_one())\n",
    "    player_two.add_cards(new_deck.deal_one())"
   ]
  },
  {
   "cell_type": "code",
   "execution_count": 387,
   "metadata": {},
   "outputs": [],
   "source": [
    "game_on = True"
   ]
  },
  {
   "cell_type": "code",
   "execution_count": 388,
   "metadata": {},
   "outputs": [
    {
     "name": "stdout",
     "output_type": "stream",
     "text": [
      "Round 1\n",
      "Round 2\n",
      "WAR !\n",
      "Round 3\n",
      "Round 4\n",
      "Round 5\n",
      "Round 6\n",
      "Round 7\n",
      "Round 8\n",
      "Round 9\n",
      "Round 10\n",
      "Round 11\n",
      "Round 12\n",
      "Round 13\n",
      "Round 14\n",
      "Round 15\n",
      "Round 16\n",
      "Round 17\n",
      "Round 18\n",
      "Round 19\n",
      "Round 20\n",
      "Round 21\n",
      "WAR !\n",
      "Round 22\n",
      "Round 23\n",
      "Round 24\n",
      "Round 25\n",
      "Round 26\n",
      "Round 27\n",
      "Round 28\n",
      "Round 29\n",
      "Round 30\n",
      "Round 31\n",
      "Round 32\n",
      "Round 33\n",
      "Round 34\n",
      "Round 35\n",
      "Round 36\n",
      "Round 37\n",
      "Round 38\n",
      "Round 39\n",
      "WAR !\n",
      "Round 40\n",
      "Round 41\n",
      "Round 42\n",
      "Round 43\n",
      "Round 44\n",
      "Round 45\n",
      "Round 46\n",
      "Round 47\n",
      "Round 48\n",
      "Round 49\n",
      "Round 50\n",
      "Round 51\n",
      "Round 52\n",
      "Round 53\n",
      "Round 54\n",
      "Round 55\n",
      "Round 56\n",
      "Round 57\n",
      "Round 58\n",
      "Round 59\n",
      "Round 60\n",
      "Round 61\n",
      "WAR !\n",
      "Round 62\n",
      "Round 63\n",
      "Round 64\n",
      "Round 65\n",
      "Round 66\n",
      "Round 67\n",
      "Round 68\n",
      "Round 69\n",
      "Round 70\n",
      "Round 71\n",
      "Round 72\n",
      "Round 73\n",
      "Round 74\n",
      "WAR !\n",
      "Round 75\n",
      "Round 76\n",
      "Round 77\n",
      "Round 78\n",
      "Round 79\n",
      "Round 80\n",
      "Round 81\n",
      "Round 82\n",
      "Round 83\n",
      "Round 84\n",
      "Round 85\n",
      "Round 86\n",
      "Round 87\n",
      "Round 88\n",
      "Round 89\n",
      "Round 90\n",
      "Round 91\n",
      "Round 92\n",
      "Round 93\n",
      "Round 94\n",
      "Round 95\n",
      "Round 96\n",
      "Round 97\n",
      "Round 98\n",
      "Round 99\n",
      "Round 100\n",
      "Round 101\n",
      "Round 102\n",
      "WAR !\n",
      "Round 103\n",
      "Round 104\n",
      "Round 105\n",
      "Round 106\n",
      "Round 107\n",
      "Round 108\n",
      "Round 109\n",
      "Round 110\n",
      "Round 111\n",
      "Round 112\n",
      "Round 113\n",
      "Round 114\n",
      "Round 115\n",
      "Round 116\n",
      "Round 117\n",
      "Round 118\n",
      "Round 119\n",
      "Round 120\n",
      "Round 121\n",
      "WAR !\n",
      "Round 122\n",
      "Round 123\n",
      "Round 124\n",
      "Round 125\n",
      "Round 126\n",
      "WAR !\n",
      "Round 127\n",
      "Round 128\n",
      "Round 129\n",
      "Round 130\n",
      "Round 131\n",
      "Round 132\n",
      "Round 133\n",
      "Round 134\n",
      "Round 135\n",
      "Round 136\n",
      "Round 137\n",
      "Round 138\n",
      "Round 139\n",
      "Round 140\n",
      "Round 141\n",
      "Round 142\n",
      "Round 143\n",
      "Round 144\n",
      "Round 145\n",
      "Round 146\n",
      "Round 147\n",
      "Round 148\n",
      "Round 149\n",
      "Round 150\n",
      "Round 151\n",
      "Round 152\n",
      "Round 153\n",
      "Round 154\n",
      "Round 155\n",
      "Round 156\n",
      "Round 157\n",
      "Round 158\n",
      "Round 159\n",
      "Round 160\n",
      "Round 161\n",
      "Round 162\n",
      "Round 163\n",
      "WAR !\n",
      "Player one unable to declare war.\n",
      "Player TWO wins!\n"
     ]
    }
   ],
   "source": [
    "# while game_on\n",
    "round_number = 0\n",
    "while game_on:\n",
    "    round_number += 1\n",
    "    print(f'Round {round_number}')\n",
    "\n",
    "    if len(player_one.all_cards) == 0:\n",
    "        print('Player one out cards , PLayer two wins !')\n",
    "        game_on = False\n",
    "        break\n",
    "    if len(player_two.all_cards) == 0:\n",
    "        print('Player two out cards , PLayer one wins !')\n",
    "        game_on = False\n",
    "        break\n",
    "\n",
    "    # START A NEW ROUND\n",
    "\n",
    "    player_one_cards = []\n",
    "    player_one_cards.append(player_one.remove_one())\n",
    "\n",
    "    player_two_cards = []\n",
    "    player_two_cards.append(player_two.remove_one())\n",
    "\n",
    "    # while at_war\n",
    "\n",
    "    at_war = True\n",
    "\n",
    "    while at_war:\n",
    "\n",
    "        if player_one_cards[-1].value > player_two_cards[-1].value:\n",
    "\n",
    "            player_one.add_cards(player_one_cards)\n",
    "            player_one.add_cards(player_two_cards)\n",
    "            at_war = False\n",
    "\n",
    "        elif player_one_cards[-1].value < player_two_cards[-1].value:\n",
    "\n",
    "            player_two.add_cards(player_one_cards)\n",
    "            player_two.add_cards(player_two_cards)\n",
    "            at_war = False\n",
    "\n",
    "        else:\n",
    "            print('WAR !')\n",
    "\n",
    "            if len(player_one.all_cards) < 5:\n",
    "                print('Player one unable to declare war.')\n",
    "                print('Player TWO wins!')\n",
    "                game_on = False\n",
    "                break\n",
    "\n",
    "            elif len(player_two.all_cards) < 5:\n",
    "                print('Player two unable to declare war.')\n",
    "                print('Player ONE wins!')\n",
    "                game_on = False\n",
    "                break\n",
    "\n",
    "            else:\n",
    "                for num in range(5):\n",
    "                    player_one_cards.append(player_one.remove_one())\n",
    "                    player_two_cards.append(player_two.remove_one())\n"
   ]
  },
  {
   "cell_type": "code",
   "execution_count": null,
   "metadata": {},
   "outputs": [],
   "source": []
  }
 ],
 "metadata": {
  "kernelspec": {
   "display_name": "Python 3.9.12 ('base')",
   "language": "python",
   "name": "python3"
  },
  "language_info": {
   "codemirror_mode": {
    "name": "ipython",
    "version": 3
   },
   "file_extension": ".py",
   "mimetype": "text/x-python",
   "name": "python",
   "nbconvert_exporter": "python",
   "pygments_lexer": "ipython3",
   "version": "3.9.12"
  },
  "orig_nbformat": 4,
  "vscode": {
   "interpreter": {
    "hash": "f1658096e3ad788612abb931e2d14e658e5c89eabb6796d184891d4d35b58bc4"
   }
  }
 },
 "nbformat": 4,
 "nbformat_minor": 2
}
